{
 "cells": [
  {
   "cell_type": "markdown",
   "id": "9c515caa",
   "metadata": {},
   "source": [
    "#  Instructions for Use of Models"
   ]
  },
  {
   "cell_type": "markdown",
   "id": "f0aa6324",
   "metadata": {},
   "source": [
    "## Table of Contents\n",
    "1. [Binder Setup](#binderSetup)\n",
    "2. [Model Selection](#modelSelection)\n",
    "3. [Dependencies Required to Run Models Locally](#localDependencies)\n",
    "4. [General Instructions](#generalInstructions)"
   ]
  },
  {
   "cell_type": "markdown",
   "id": "7adb5f59",
   "metadata": {},
   "source": [
    "## Binder Setup <a name=\"binderSetup\"/>\n",
    "[![Binder](https://mybinder.org/badge_logo.svg)](https://mybinder.org/v2/gh/cparker-uc/PTSD/HEAD)\n",
    "\n",
    "Clicking the \"Launch Binder\" link above will open this repository in Binder, which allows you to run all of the Jupyter notebook files in your web browser without needing to have any software installed.\n",
    "\n",
    "The Binder environment will already have all of the necessary Python modules ready, so all you need to do is open a model file and start running simulations."
   ]
  },
  {
   "cell_type": "markdown",
   "id": "26b67d9d",
   "metadata": {},
   "source": [
    "## Model Selection <a name=\"modelSelection\" />\n",
    "\n",
    "This repository contains quite a few different models, each in their own Jupyter notebook file. Below is a table listing all of the models included with short descriptions of them.\n",
    "\n",
    "| Filename                              | Authors                                                                                                          | Year | Model Description                                                                                                                                                                                                              |\n",
    "|:-------------------------------------:|:----------------------------------------------------------------------------------------------------------------:|:----:|:------------------------------------------------------------------------------------------------------------------------------------------------------------------------------------------------------------------------------:|\n",
    "| Andersen-Vinther-Ottesen-2013.ipynb   | M. Andersen, F. Vinther & J.T. Ottesen                                                                           | 2013 | One of the six models described in my paper.                                                                                                                                                                                   |\n",
    "| Bairagi-2008.ipynb                    | N. Bairagi, S. Chatterjee & J. Chattopadhyay                                                                     | 2008 | One of the six models described in my paper.                                                                                                                                                                                   |\n",
    "| Bangsgaard-Ottesen-2017.ipynb         | E.O. Bangsgaard & J.T. Ottesen                                                                                   | 2017 | One of the six models described in my paper.                                                                                                                                                                                   |\n",
    "| Best-2010.ipynb                       | J. Best, H.F. Nijhout & M. Reed                                                                                  | 2010 | Describes serotonin synthesis and release (we were hoping to include this behavior in a systems biology approach to studying MDD and/or PTSD, but couldn't find experimental data to validate the model).                      |\n",
    "| Gudmand-Hoeyer-Blood-Model-2018.ipynb | J. Gudmand-Hoeyer & J.T. Ottesen                                                                                 | 2018 | A chemical reaction-based model of free and bound cortisol in blood.                                                                                                                                                           |\n",
    "| Kim-DOrsogna-Chou-2017.ipynb          | L.U. Kim, M.R. D'Orsogna & T. Chou                                                                               | 2017 | The authors did not include all necessary parameters and initial conditions to run the dimensional version of the model, and I have been unable to get the model running smoothly.                                             |\n",
    "| Malek-2015.ipynb                      | H. Malek, M.H. Ebadzadeh, R. Safabakhsh, A. Razavi & J. Zaringhalam                                              | 2015 | One of the six models described in my paper.                                                                                                                                                                                   |\n",
    "| Savic-2000.ipynb                      | D. Savic, G. Knezevic & G. Opacic                                                                                | 2000 | Attempted to model the HPA system under stress, but is unable to match real-world data well at all.                                                                                                                            |\n",
    "| Somvanshi-2020.ipynb                  | P.R. Somvanshi, S.H. Mellon, R. Yehuda, J.D. Flory, L. Bierer, I. Makotkine, C. Marmar, M. Jett & F.J. Doyle III | 2020 | One of the six models described in my paper.                                                                                                                                                                                   |\n",
    "| Sriram-2012.ipynb                     | K. Sriram, M. Rodriguez-Fernandez & F.J. Doyle III                                                               | 2012 | One of the six models described in my paper.                                                                                                                                                                                   |\n",
    "| Stanojevic-2018.ipynb                 | A. Stanojevic, V.M. Markovic, Z. Cupic, L. Kolar-Anic & V. Vukojevic                                             | 2018 | Chemical reaction-based system of ODEs. This model was created with concentration units in moles per liter, which required conversion of the real-world data units to match.                                                   |\n",
    "| Stanojevic-2018-micromolar.ipynb      | A. Stanojevic, V.M. Markovic, Z. Cupic, L. Kolar-Anic & V. Vukojevic                                             | 2018 | Same as Stanojevic-2018.ipynb but with units converted to micromolar for increased accuracy when computing cost function (because molar units lead to very small concentration values which introduced extra rounding errors). |\n",
    "| Stanojevic-2018-nanomolar.ipynb       | A. Stanojevic, V.M. Markovic, Z. Cupic, L. Kolar-Anic & V. Vukojevic                                             | 2018 | Same as Stanojevic-2018.ipynb but with units converted to nanomolar for increased accuracy when computing cost function (because molar units lead to very small concentration values which introduced extra rounding errors).  |\n",
    "| Vinther-2011.ipynb                    | F. Vinther, M. Andersen & J.T. Ottesen                                                                           | 2011 | Described by the authors as the \"Minimal Model of the HPA Axis,\" this is a very bare-bones model and thus does not perform well on validation against real-world basal data (haven't tested with TSST data).   \n",
    "\n",
    "**Note:** Unfortunately, aside from the models discussed in the paper, most of the models are not fully polished and may require some tweaks. If you're not familiar with Python, you may want to stick with one of the models from the paper."
   ]
  },
  {
   "cell_type": "markdown",
   "id": "70c5eec1",
   "metadata": {},
   "source": [
    "## Dependencies Required to Run Models Locally <a name=\"localDependencies\" />\n",
    "If you would prefer to run the models on your local machine, rather than in a Binder environment, the requirements listed in the following table will need to be met.\n",
    "\n",
    "| Software   | Version | URL                                                         |\n",
    "|:----------:|:-------:|:-----------------------------------------------------------:|\n",
    "| Python     | 3.7.7   | [https://www.python.org/downloads/](https://www.python.org/downloads/)                           |\n",
    "| Jupyterlab | 2.1.5   | https://www.jupyter.org/install                             |\n",
    "| NumPy      | 1.21.5  | https://numpy.org/install/                                  |\n",
    "| matplotlib | 3.0.1   | https://matplotlib.org/stable/users/installing/index.html   |\n",
    "| pandas     | 0.23.4  | https://pandas.pydata.org/docs/getting_started/install.html |\n",
    "| mpld3      | 0.5.7   | https://mpld3.github.io/install.html                        |\n",
    "| SciPy      | 1.1.0   | https://scipy.org/install/                                  |\n",
    "| tabulate   | 0.8.9   | https://pypi.org/project/tabulate/                          |\n"
   ]
  },
  {
   "cell_type": "markdown",
   "id": "d84f925a",
   "metadata": {},
   "source": [
    "## General Instructions <a name=\"generalInstructions\" />\n",
    "\n",
    "Once you have set up a Binder environment or installed all of the dependencies locally, open any of the six models described in the paper and select \"Instructions\" from the Table of Contents. Each model has instructions tailored to its specific needs, although they are largely the same. Good luck, and have fun!"
   ]
  }
 ],
 "metadata": {
  "kernelspec": {
   "display_name": "Python 3",
   "language": "python",
   "name": "python3"
  },
  "language_info": {
   "codemirror_mode": {
    "name": "ipython",
    "version": 3
   },
   "file_extension": ".py",
   "mimetype": "text/x-python",
   "name": "python",
   "nbconvert_exporter": "python",
   "pygments_lexer": "ipython3",
   "version": "3.7.7"
  }
 },
 "nbformat": 4,
 "nbformat_minor": 5
}
