{
 "cells": [
  {
   "cell_type": "markdown",
   "metadata": {},
   "source": [
    "# Bangsgaard and Ottesen (2017) Model Code <a name=\"top\" />"
   ]
  },
  {
   "cell_type": "markdown",
   "metadata": {},
   "source": [
    "# Table of Contents\n",
    "1. [Instructions](#instructions)\n",
    "    1. [Parameter Optimization Against TSST Data Sets](#TSSTInstructions)\n",
    "    2. [Parameter Optimization Against Basal Data Sets](#basalInstructions)\n",
    "    3. [Running Without Parameter Optimization](#noOptInstructions)\n",
    "2. [Imports](#imports)\n",
    "3. [Parameters and Initial Conditions](#params)\n",
    "4. [Put Raw Data into Arrays](#rawdata)\n",
    "    1. [Plot Data Sets](#plotdata)\n",
    "5. [Model Function--Includes ODE Solver](#modelfunction)\n",
    "6. [Cost Function Definition](#cost)\n",
    "7. [Run the Optimization](#run)\n",
    "8. [Save Output to File](#saveoutput)\n",
    "9. [Compute Means and Std Devations of Parameters and Output as Table](#paramtable)\n",
    "10. [Plots](#plots)\n",
    "11. [No Optimization Run](#no-opt)\n",
    "    1. [Plot the No-Optimization Simulation Against Raw Data](#no-optplot)\n",
    "12. [No Optimization Run--Iterate Over Multiple CRH Initial Conditions](#multipleCRH)\n",
    "13. [Dependencies](#dependencies)"
   ]
  },
  {
   "cell_type": "markdown",
   "metadata": {},
   "source": [
    "## Instructions <a name=\"instructions\"></a>"
   ]
  },
  {
   "cell_type": "markdown",
   "metadata": {},
   "source": [
    "### Parameter Optimization Against TSST Data Sets <a name=\"TSSTInstructions\" />\n",
    "\n",
    "**Note:** To quickly run a cell (or a selection of cells), use the shortcut Shift+Enter (or you can also use the button labeled \"Run\" in the toolbar at the top).\n",
    "\n",
    "To run simulations with parameter optimization against TSST data, there is no need to change any cells until the cost function cell. Simply run all cells up to the cell below the heading **Cost Function Definition**.\n",
    "\n",
    "In order to set which data set to optimize parameters against, look for the following line of code in the cost function definition:\n",
    "    \n",
    "    return costFun.SSE_cost(...)\n",
    "\n",
    "**Note:** You also have the option of using a cost function based on the maximum distance between simulation and real-world data. Simply change SSE_cost to MAX_cost, the instructions for function arguments remain the same.\n",
    "\n",
    "In order to run against a patient from the TSST data sets, simply change the second and fourth arguments to reflect the patient number and subject group. The subject groups are:\n",
    "\n",
    "- nelson.melancholicACTH & nelson.melancholicCortisol (15 patients)\n",
    "- nelson.atypicalACTH & nelson.atypicalCortisol (14 patients)\n",
    "- nelson.neitherACTH & nelson.neitherCortisol (14 patients)\n",
    "- nelson.healthyACTH & nelson.healthyCortisol (15 patients)\n",
    "\n",
    "You could also run against the mean of all patients cortisol and ACTH concentration values by using `nelson.ACTH[:,1]` and `nelson.cortisol[:,1]`. Or you can run against the mean of any subgroup using `nelson.<subgroup name>Cortisol_mean[:,1]` and `nelson.<subgroup name>ACTH_mean[:,1]` (for instance `nelson.melancholicCortisol_mean[:,1]` & `nelson.melancholicACTH_mean[:,1]`). \n",
    "\n",
    "Note that the first column in each data set is the time steps, so indexing with `[:,0]` is referring to the time. These are the values we need to pass as the first (ACTH time steps) and third (cortisol time steps) arguments to the cost function.\n",
    "\n",
    "The following are several examples of arguments you could pass the cost function with explanations:\n",
    "\n",
    "- `nelson.melancholicACTH[:,0], nelson.melancholicACTH[:,1], nelson.melancholicCortisol[:,0], nelson.melancholicCortisol[:,1], simData`\n",
    "    - The 1st patient in the Melancholic subgroup\n",
    "- `nelson.atypicalACTH[:,0], nelson.atypicalACTH[:,14], nelson.atypicalCortisol[:,0], nelson.atypicalCortisol[:,14], simData`\n",
    "    - The 14th patient in the Atypical subgroup\n",
    "- `nelson.healthyACTH[:,0], nelson.healthyACTH[:,2], nelson.healthyCortisol[:,0], nelson.healthyCortisol[:,2], simData`\n",
    "    - The 2nd patient in the Healthy Control group\n",
    "- `nelson.ACTH[:,0], nelson.ACTH[:,1], nelson.cortisol[:,0], nelson.cortisol[:,1], simData`\n",
    "    - The mean data set for all patients (depressed and control)\n",
    "- `nelson.healthyACTH_mean[:,0], nelson.healthyACTH_mean[:,1], nelson.healthyCortisol_mean[:,0], nelson.healthyCortisol_mean[:,1], simData`\n",
    "    - The mean of all control patients\n",
    "    \n",
    "In order to find out the actual Patient ID of the patient you are matching, try creating a new cell and entering the following command (using the group name and index number you used in the cost function arguments):\n",
    "\n",
    "    print(melancholic_ids[1])\n",
    "    \n",
    "Next, you need to set the initial conditions for each ODE. In the cell directly below the heading **Run the Optimization**, you'll need to change the following line:\n",
    "\n",
    "    y0 = [1, nelson.ACTH[0,1], nelson.cortisol[0,1]]\n",
    "    \n",
    "Depending on which data set you used, change `nelson.ACTH` and `nelson.cortisol` to match. Then, depending on which patient you used, change `[0,1]` in both places to `[0,#]` where # is replaced with the number from above. \n",
    "\n",
    "Alternatively, if you used the mean of all patients, you'd leave it unchanged.\n",
    "    \n",
    "And for each of the subgroup means, you'd use (or simply replace Healthy with whichever other subgroup you used):\n",
    "\n",
    "    y0 = [1, nelson.healthyACTH_mean[0,1], nelson.healthyCortisol_mean[0,1]]\n",
    "    \n",
    "At this point, you are ready to run the optimization, so simply run the cells up to the heading **Save Output to File**. This may take some time, so while it is running you can move on to the next steps (if you run a cell while another is processing, it will add it to a queue).\n",
    "\n",
    "The next few cells under the heading **Save Output to File** can be changed so that the filenames match the subgroup and patient you are running. For instance, the filename below is for the Melancholic subgroup patient with ID 3:\n",
    "\n",
    "    df_t.to_excel(excel_writer = 'bangsgaardModel_output/bangsgaardModel-nelson-melancholic-patientID_3-timeSteps-5-\n",
    "        iterations.xlsx')\n",
    "    \n",
    "The final step after saving the outputs is to plot the simulations against the real-world data. The cell under the heading **Plots** contains the code for this purpose. The lines of concern to ensure that you're showing the data set that you matched are (marked with comments in the actual code cell):\n",
    "```\n",
    "ax2.plot(nelson.ACTH[:,0], nelson.ACTH[:,1], label = \"Nelson ACTH Data - Patient Mean\", color = \"orange\")\n",
    "ax3.plot(nelson.cortisol[:,0], nelson.cortisol[:,1], label = \"Nelson Cortisol Data - Patient Mean\", \n",
    "    color = \"orange\")\n",
    "```\n",
    "Here, change the first two arguments of each line to match exactly the arguments you used for the cost function. The labels can be changed to the patient subgroup and Patient ID you matched, also. And the filename for the figure can be changed in the last line of the cell:\n",
    "\n",
    "    plt.savefig(\"bangsgaardModel_output/bangsgaardModel-nelson-melancholic-patientID_3-5-iterations-all-params-\n",
    "        normalizedCost.png\", dpi = 300)\n",
    "    \n",
    "### Parameter Optimization Against Basal Data Sets <a name=\"basalInstructions\" />\n",
    "\n",
    "Since these data sets have data points over a 24-hour period (1440 minutes), rather than 140.01 minutes, you will need to change the time interval over which the ODE solver integrates. To do this, go to the cell directly above the heading **Put Raw Data Into Arrays** and uncomment (delete the # at the start of the line) the lines:\n",
    "\n",
    "    t_start = -0.01\n",
    "    t_end = 1455.01\n",
    "    t_step = 0.01\n",
    "\n",
    "You'll need to comment out the other definitons for these variables (place a # at the start of the line).\n",
    "\n",
    "The reason you add the extra 15 minutes is that you need to make sure that when you interpolate between your simulated data points the line covers every real-world data point so that you don't cause issues when computing the cost function (and the last data point for the Golier cortisol concentration data sets is at 1455 minutes).\n",
    "\n",
    "After making this change, you need to again change the cost function arguments so that you are matching the basal data set in which you are interested. This time, however, you will also need to change the first and third arguments, because we need to tell the function the correct time steps for the data set.\n",
    "\n",
    "First, choose which data set you wish to match. Here are the options:\n",
    "\n",
    "- yehuda.controlCortisol\n",
    "- yehuda.PTSDCortisol\n",
    "- yehuda.depressedCortisol\n",
    "- carroll.controlCortisol & carroll.controlACTH\n",
    "- carroll.LCDepressedCortisol & carroll.LCDepressedACTH (LC = Low Cortisol)\n",
    "- carroll.HCDepressedCortisol & carroll.HCDepressedACTH (HC = High Cortisol)\n",
    "- golier.PTSDCortisol & golierPTSDACTH\n",
    "- golier.nonPTSDTraumaExposedCortisol & golier.nonPTSDTraumaExposedACTH\n",
    "- golier.nonPTSDNonExposedCortisol & golier.nonPTSDNonExposedACTH\n",
    "- bremner.abusedPTSDCortisol\n",
    "- bremner.nonAbusedPTSDCortisol\n",
    "- bremner.nonAbusedNonPTSDCortisol\n",
    "\n",
    "**Note:** To see what any of these data sets looks like, click on the **Plot Basal Data Sets** heading in the Table of Contents.\n",
    "\n",
    "**Note Also:** These data sets all come in smoothed versions (each data point is set to the average of the nearest 5 points of the unsmoothed data). Also, the data sets by Carroll, Golier and Bremner also come in rearranged (or smoothed & rearranged) versions to match the starting time of the Yehuda data (10AM). To use any of these versions, simply append one of the following tags to the end of the data set name (before the indices): `_smooth`, `_rearr`, or `_rearr_smooth`.\n",
    "\n",
    "First, I will cover what to do with data sets that contain both ACTH and cortisol values, and then afterwards I will cover using the Yehuda and Bremner data sets (which have only cortisol concentration data). For all of these data sets, the first column is the time step values. This means that if you take any of these arrays and index it with `[:,0]`, you are referring to the time steps. These are the values we need to pass as the first (ACTH time steps) and third (cortisol time steps) arguments to the cost function.\n",
    "\n",
    "Then for the second and fourth arguments, you index the same data sets with `[:,1]` to mean the second column (which contains the mean concentration values for each patient group).\n",
    "\n",
    "Here are a couple of examples showing arguments you can pass to the cost function:\n",
    "\n",
    "- `carroll.controlACTH_smooth[:,0], carroll.controlACTH_smooth[:,1], carroll.controlCortisol_smooth[:,0], carroll.controlCortisol_smooth[:,1], simData`\n",
    "    - The smoothed Control group mean for the Carroll data set\n",
    "- `golier.nonPTSDTraumaExposedACTH[:,0], golier.nonPTSDTraumaExposedACTH[:,1], golier.nonPTSDTraumaExposedCortisol[:,0], golier.nonPTSDTraumaExposedCortisol[:,1], simData`\n",
    "    - The Trauma-Exposed Control group mean for the Golier data set\n",
    "    \n",
    "In order to run simulations against data sets that do not include ACTH concentration data, you will need to change the name of the function to `costFun.SSE_cost_noACTH` and then simply do not include the two arguments for ACTH data. To use the Yehuda Control group data, this would look like:\n",
    "\n",
    "    return costFun.SSE_cost_noACTH(yehuda.controlCortisol[:,0], yehuda.controlCortisol[:,1], simData)\n",
    "\n",
    "You'll also need to change the initial conditions in the cell below the heading **Run the Optimization**, again. Use the name of the data set you used for the cost function, and change the indices to `[0,1]` for both. Here's an example (using the smoothed Carroll Control group data set):\n",
    "\n",
    "    y0 = [1, carroll.controlACTH_smooth[0,1], carroll.controlCortisol_smooth[0,1]]\n",
    "    \n",
    "Next, because you changed the length of the interval over which the ODE solver integrates, you'll need to change the arrays initialized in the next cell to be longer. For each of the last 4 lines in the cell, you'll need to replace the number 237 with 2428 (since we start at -0.01 and go until 24.26 with a step size of 0.01, that's 2428 steps total).\n",
    "\n",
    "At this point, you're ready to run the parameter optimization, so run the next cell. Again, it may take a while, so you can start editing the remaining cells while you wait.\n",
    "\n",
    "The cells under the heading **Save Output to File** should each have the filename changed to something that reflects the data set you're matching now. For instance, the Excel filename for sims_acth when matching the smoothed Carroll Control group would become:\n",
    "\n",
    "    df_crh.to_excel(excel_writer = 'bangsgaardModel_output/bangsgaardModel-carroll-control-smooth-sims-crh-5-\n",
    "        iterations.xlsx')\n",
    "            \n",
    "Finally, the cell under the heading **Plots** needs to have the same lines changed as described above. For instance, when matching the smoothed Carroll Control group, they would become:\n",
    "```\n",
    "ax2.plot(carroll.controlACTH_smooth[:,0], carroll.controlACTH_smooth[:,1], label = \"Carroll Control ACTH Data\", \n",
    "    color = \"orange\")\n",
    "ax3.plot(carroll.controlCortisol_smooth[:,0], carroll.controlCortisol_smooth[:,1], label = \"Carroll Control \n",
    "    Cortisol Data\", color = \"orange\")\n",
    "```\n",
    "The data set names and indices here should match exactly the names and indices used as arguments to the cost function. Also, the last line of the cell can have the filename changed as described above to reflect which data set you are plotting.\n",
    "\n",
    "### Running Without Parameter Optimization <a name=\"noOptInstructions\" />\n",
    "\n",
    "To run the model with any set of paramaters you desire, without optimization, you can use the cells under the heading **No Optimization Run**. Set the parameters, initial conditions and time interval you want to use by changing the values defined in the section **Parameters and Initial Conditions**. Then you can run the cell under the heading **Plot the No-Optimization Simulation Against Raw Data** to plot the simulation."
   ]
  },
  {
   "cell_type": "markdown",
   "metadata": {},
   "source": [
    "## Imports <a name=\"imports\"></a>"
   ]
  },
  {
   "cell_type": "code",
   "execution_count": null,
   "metadata": {},
   "outputs": [],
   "source": [
    "import numpy as np\n",
    "import matplotlib.pyplot as plt\n",
    "import scipy.optimize as sco\n",
    "from scipy.interpolate import interp1d\n",
    "import mpld3\n",
    "from tabulate import tabulate\n",
    "import matplotlib\n",
    "import pandas as pd\n",
    "from HPAmodeling import DEsolver, costFun\n",
    "from HPAmodeling.dataImport import data"
   ]
  },
  {
   "cell_type": "markdown",
   "metadata": {},
   "source": [
    "[Back to Top](#top)"
   ]
  },
  {
   "cell_type": "markdown",
   "metadata": {},
   "source": [
    "## Parameters and Initial Conditions <a name=\"params\"></a>"
   ]
  },
  {
   "cell_type": "code",
   "execution_count": null,
   "metadata": {},
   "outputs": [],
   "source": [
    "# initial conditions\n",
    "# order is: CRH, ACTH, Cortisol\n",
    "\n",
    "y0 = [2,8.725314,1.158798]"
   ]
  },
  {
   "cell_type": "code",
   "execution_count": null,
   "metadata": {},
   "outputs": [],
   "source": [
    "# authors' published parameters, from Table A1 & A2 for Control Patient F\n",
    "\n",
    "a_0 = 3.9031e-4\n",
    "a_1 = 6.839e12\n",
    "a_2 = 1.7809e9\n",
    "a_3 = 2.2803e4\n",
    "a_4 = 1.7745e5\n",
    "a_5 = 4.617e-4\n",
    "mu = 5.83e2\n",
    "w_1 = 0.0337\n",
    "w_2 = 0.0205\n",
    "w_3 = 0.0238\n",
    "delta = 83.8\n",
    "alpha = 300\n",
    "k = 5\n",
    "beta = 950\n",
    "l = 6\n",
    "eps = 0.01\n",
    "N_c = 0.5217\n",
    "T = 1440\n",
    "\n",
    "authors_params = [a_0, a_1, a_2, a_3, a_4, a_5, mu, w_1, w_2, w_3, delta, alpha, k, beta, l, eps, N_c]"
   ]
  },
  {
   "cell_type": "code",
   "execution_count": null,
   "metadata": {},
   "outputs": [],
   "source": [
    "# parameters for hypercortisolemic patients\n",
    "a_0 = 1.31e-1\n",
    "a_1 = 1.29e13\n",
    "a_2 = 1.78e9\n",
    "mu = 583\n",
    "a_3 = 2.28e4\n",
    "a_4 = 1.77e5\n",
    "a_5 = 3.03e-4\n",
    "w_1 = 4.57e-2\n",
    "w_2 = 1.46e-2\n",
    "w_3 = 2.10e-2\n",
    "delta = 2.01e1\n",
    "alpha = 300\n",
    "k = 5.\n",
    "beta = 950.\n",
    "l = 6.\n",
    "eps = 0.01\n",
    "N_c = 0.5217\n",
    "T = 1440.\n",
    "\n",
    "authors_params = [a_0, a_1, a_5, w_1, w_2, w_3, delta]"
   ]
  },
  {
   "cell_type": "code",
   "execution_count": null,
   "metadata": {},
   "outputs": [],
   "source": [
    "par = N_c\n",
    "plus_minus = par*0.25\n",
    "print(par - plus_minus, par + plus_minus)"
   ]
  },
  {
   "cell_type": "code",
   "execution_count": null,
   "metadata": {},
   "outputs": [],
   "source": [
    "# bounds for parameter optimization, based on Patient F parameters +- 25%\n",
    "# order is: a_0, a_1, a_2, a_3, a_4, a_5, mu, w_1, w_2, w_3, delta, alpha, k, beta, l, eps, N_c\n",
    "#bounds = [(0.0002927325, 0.0004878875), (5129250000000.0, 8548750000000.0), (1335675000.0, 2226125000.0), (17102.25, 28503.75), (133087.5, 221812.5), (0.000346275, 0.000577125), (437.25, 728.75), (0.025275, 0.042125), (0.015375, 0.025625), (0.01785, 0.02975), (62.85, 104.75), (225., 375.), (3.75, 6.25), (712.5, 1187.5), (4.5, 7.5), (0.0075, 0.0125), (0.391275, 0.652125)]\n"
   ]
  },
  {
   "cell_type": "code",
   "execution_count": null,
   "metadata": {},
   "outputs": [],
   "source": [
    "# expanded bounds, to see if that helps fitting at all\n",
    "bounds = ([0., 0.1], [6.5e12, 7e12], [0., 0.05], [0., 0.6], [0., 0.4], [0., 0.35], [10., 5000.])"
   ]
  },
  {
   "cell_type": "code",
   "execution_count": null,
   "metadata": {},
   "outputs": [],
   "source": [
    "# define time interval for integration\n",
    "\n",
    "# time interval and step definition\n",
    "# all data sets end on 1440.0 or earlier except the Golier cortisol sets,\n",
    "# they end on 1455.0, so I should set t_end = 1455.01 when matching them\n",
    "#t_start = -0.01\n",
    "#t_end = 1455.01\n",
    "#t_step = 0.01\n",
    "\n",
    "# time interval and step definition for integration\n",
    "t_start = -0.01\n",
    "t_end = 140.01\n",
    "t_step = 0.01"
   ]
  },
  {
   "cell_type": "markdown",
   "metadata": {},
   "source": [
    "[Back to Top](#top)"
   ]
  },
  {
   "cell_type": "markdown",
   "metadata": {},
   "source": [
    "## Put Raw Data Into Arrays <a name=\"rawdata\"></a>"
   ]
  },
  {
   "cell_type": "code",
   "execution_count": null,
   "metadata": {},
   "outputs": [],
   "source": [
    "# Create an instance of the data class for each data set contained in the HPAmodeling library, and set the time\n",
    "# scale to hours.\n",
    "yehuda = data(\"yehuda\", \"minutes\")\n",
    "carroll = data(\"carroll\", \"minutes\")\n",
    "golier = data(\"golier\", \"minutes\")\n",
    "bremner = data(\"bremner\", \"minutes\")\n",
    "nelson = data(\"nelson\", \"minutes\")\n",
    "patientF = data(\"patientF\", \"minutes\")"
   ]
  },
  {
   "cell_type": "markdown",
   "metadata": {},
   "source": [
    "### Plot Data Sets <a name=\"plotdata\"></a>"
   ]
  },
  {
   "cell_type": "code",
   "execution_count": null,
   "metadata": {},
   "outputs": [],
   "source": [
    "# plot the smoothed data to check it against the figures in the paper\n",
    "#mpld3.enable_notebook()\n",
    "%matplotlib inline\n",
    "fig, (ax1,ax2) = plt.subplots(nrows=2, figsize=(10,7))\n",
    "\n",
    "ax1.plot(patientF.ACTH[:,0], patientF.ACTH[:,1])\n",
    "ax1.plot(patientF.ACTH_smooth[:,0], patientF.ACTH_smooth[:,1], color = \"orange\")\n",
    "ax1.set(xlabel=\"Time (minutes)\", ylabel=\"ACTH (pg/mL)\")\n",
    "\n",
    "ax2.plot(patientF.cortisol[:,0], patientF.cortisol[:,1])\n",
    "ax2.plot(patientF.cortisol_smooth[:,0], patientF.cortisol_smooth[:,1], color = \"orange\")\n",
    "ax2.set(xlabel=\"Time (minutes)\", ylabel=\"Cortisol (micrograms/dL)\")"
   ]
  },
  {
   "cell_type": "code",
   "execution_count": null,
   "metadata": {},
   "outputs": [],
   "source": [
    "fig, (ax1, ax2, ax3) = plt.subplots(nrows = 3, figsize = (15,15))\n",
    "\n",
    "ax1.plot(yehuda.controlCortisol[:,0], yehuda.controlCortisol[:,1], label = \"Control Group Cortisol\")\n",
    "ax1.plot(yehuda.controlCortisol_smooth[:,0], yehuda.controlCortisol_smooth[:,1], label = \"Control Group Cortisol - Smoothed\")\n",
    "ax1.set(xlabel=\"Time (minutes)\", ylabel=\"Cortisol (micrograms/dL)\")\n",
    "ax1.legend(loc=\"lower right\", shadow = True, fancybox = True)\n",
    "\n",
    "ax2.plot(yehuda.PTSDCortisol[:,0], yehuda.PTSDCortisol[:,1], label = \"PTSD Group Cortisol\")\n",
    "ax2.plot(yehuda.PTSDCortisol_smooth[:,0], yehuda.PTSDCortisol_smooth[:,1], label = \"PTSD Group Cortisol - Smoothed\")\n",
    "ax2.set(xlabel=\"Time (minutes)\", ylabel=\"Cortisol (micrograms/dL)\")\n",
    "ax2.legend(loc=\"lower right\", shadow = True, fancybox = True)\n",
    "\n",
    "ax3.plot(yehuda.depressedCortisol[:,0], yehuda.depressedCortisol[:,1], label = \"Depression Group Cortisol\")\n",
    "ax3.plot(yehuda.depressedCortisol_smooth[:,0], yehuda.depressedCortisol_smooth[:,1], label = \"Depression Group Cortisol - Smoothed\")\n",
    "ax3.set(xlabel=\"Time (minutes)\", ylabel=\"Cortisol (micrograms/dL)\")\n",
    "ax3.legend(loc=\"lower right\", shadow = True, fancybox = True)\n"
   ]
  },
  {
   "cell_type": "code",
   "execution_count": null,
   "metadata": {},
   "outputs": [],
   "source": [
    "#mpld3.enable_notebook()\n",
    "%matplotlib inline\n",
    "\n",
    "fig, (ax1, ax2, ax3, ax4) = plt.subplots(nrows = 4, figsize = (15,15))\n",
    "\n",
    "ax1.plot(carroll.controlCortisol_rearr[:,0], carroll.controlCortisol_rearr[:,1], 'b', label = \"Control\")\n",
    "ax1.plot(carroll.HCDepressedCortisol_rearr[:,0], carroll.HCDepressedCortisol_rearr[:,1], 'r', label = \"High Cortisol Depressed\")\n",
    "ax1.plot(carroll.controlCortisol_rearr_smooth[:,0], carroll.controlCortisol_rearr_smooth[:,1], label = \"Control - Smoothed\")\n",
    "ax1.plot(carroll.HCDepressedCortisol_rearr_smooth[:,0], carroll.HCDepressedCortisol_rearr_smooth[:,1], label = \"High Cortisol Depressed - Smoothed\")\n",
    "ax1.set(xlabel=\"Time (minutes)\", ylabel=\"Cortisol (micrograms/dL)\")\n",
    "ax1.legend(loc=\"upper right\", shadow = True, fancybox = True)\n",
    "\n",
    "ax2.plot(carroll.controlCortisol_rearr[:,0], carroll.controlCortisol_rearr[:,1], 'b', label = \"Control\")\n",
    "ax2.plot(carroll.LCDepressedCortisol_rearr[:,0], carroll.LCDepressedCortisol_rearr[:,1], 'g', label = \"Low Cortisol Depressed\")\n",
    "ax2.plot(carroll.controlCortisol_rearr_smooth[:,0], carroll.controlCortisol_rearr_smooth[:,1], label = \"Control - Smoothed\")\n",
    "ax2.plot(carroll.LCDepressedCortisol_rearr_smooth[:,0], carroll.LCDepressedCortisol_rearr_smooth[:,1], label = \"Low Cortisol Depressed - Smoothed\")\n",
    "ax2.set(xlabel=\"Time (minutes)\", ylabel=\"Cortisol (micrograms/dL)\")\n",
    "ax2.legend(loc=\"upper right\", shadow = True, fancybox = True)\n",
    "\n",
    "ax3.plot(carroll.controlACTH_rearr[:,0], carroll.controlACTH_rearr[:,1], 'b', label = \"Control\")\n",
    "ax3.plot(carroll.HCDepressedACTH_rearr[:,0], carroll.HCDepressedACTH_rearr[:,1], 'r', label = \"High Cortisol Depressed\")\n",
    "ax3.plot(carroll.controlACTH_rearr_smooth[:,0], carroll.controlACTH_rearr_smooth[:,1], label = \"Control - Smoothed\")\n",
    "ax3.plot(carroll.HCDepressedACTH_rearr_smooth[:,0], carroll.HCDepressedACTH_rearr_smooth[:,1], label = \"High Cortisol Depressed - Smoothed\")\n",
    "ax3.set(xlabel=\"Time (minutes)\", ylabel=\"ACTH (pg/mL)\")\n",
    "ax3.legend(loc=\"upper right\", shadow = True, fancybox = True)\n",
    "\n",
    "ax4.plot(carroll.controlACTH_rearr[:,0], carroll.controlACTH_rearr[:,1], 'b', label = \"Control\")\n",
    "ax4.plot(carroll.LCDepressedACTH_rearr[:,0], carroll.LCDepressedACTH_rearr[:,1], 'g', label = \"Low Cortisol Depressed\")\n",
    "ax4.plot(carroll.controlACTH_rearr_smooth[:,0], carroll.controlACTH_rearr_smooth[:,1], label = \"Control - Smoothed\")\n",
    "ax4.plot(carroll.LCDepressedACTH_rearr_smooth[:,0], carroll.LCDepressedACTH_rearr_smooth[:,1], label = \"Low Cortisol Depressed - Smoothed\")\n",
    "ax4.set(xlabel=\"Time (minutes)\", ylabel=\"ACTH (pg/mL)\")\n",
    "ax4.legend(loc=\"upper right\", shadow = True, fancybox = True)"
   ]
  },
  {
   "cell_type": "code",
   "execution_count": null,
   "metadata": {},
   "outputs": [],
   "source": [
    "%matplotlib inline\n",
    "\n",
    "fig, (ax1, ax2, ax3, ax4, ax5, ax6) = plt.subplots(nrows = 6, figsize = (15,20))\n",
    "\n",
    "ax1.plot(golier.PTSDCortisol_rearr_smooth[:,0], golier.PTSDCortisol_rearr_smooth[:,1], label = \"Trauma Exposed PTSD Cortisol - Smoothed\")\n",
    "ax1.plot(golier.PTSDCortisol_rearr[:,0], golier.PTSDCortisol_rearr[:,1], label = \"Trauma Exposed PTSD Cortisol\")\n",
    "ax1.set(xlabel=\"Time (minutes)\", ylabel=\"Cortisol (mg/dL)\")\n",
    "ax1.legend(loc=\"lower right\", shadow = True, fancybox = True)\n",
    "\n",
    "ax2.plot(golier.nonPTSDTraumaExposedCortisol_rearr_smooth[:,0], golier.nonPTSDTraumaExposedCortisol_rearr_smooth[:,1], label = \"Trauma Exposed Non-PTSD Cortisol - Smoothed\")\n",
    "ax2.plot(golier.nonPTSDTraumaExposedCortisol_rearr[:,0], golier.nonPTSDTraumaExposedCortisol_rearr[:,1], label = \"Trauma Exposed Non-PTSD Cortisol\")\n",
    "ax2.set(xlabel=\"Time (minutes)\", ylabel=\"Cortisol (mg/dL)\")\n",
    "ax2.legend(loc=\"lower right\", shadow = True, fancybox = True)\n",
    "\n",
    "ax3.plot(golier.nonPTSDNonExposedCortisol_rearr_smooth[:,0], golier.nonPTSDNonExposedCortisol_rearr_smooth[:,1], label = \"Non-Exposed Non-PTSD Cortisol - Smoothed\")\n",
    "ax3.plot(golier.nonPTSDNonExposedCortisol_rearr[:,0], golier.nonPTSDNonExposedCortisol_rearr[:,1], label = \"Non-Exposed Non-PTSD Cortisol\")\n",
    "ax3.set(xlabel=\"Time (minutes)\", ylabel=\"Cortisol (mg/dL)\")\n",
    "ax3.legend(loc=\"lower right\", shadow = True, fancybox = True)\n",
    "\n",
    "ax4.plot(golier.PTSDACTH_rearr_smooth[:,0], golier.PTSDACTH_rearr_smooth[:,1], label = \"Trauma Exposed PTSD ACTH - Smoothed\")\n",
    "ax4.plot(golier.PTSDACTH_rearr[:,0], golier.PTSDACTH_rearr[:,1], label = \"Trauma Exposed PTSD ACTH\")\n",
    "ax4.set(xlabel=\"Time (minutes)\", ylabel=\"ACTH (pg/mL)\")\n",
    "ax4.legend(loc=\"lower right\", shadow = True, fancybox = True)\n",
    "\n",
    "ax5.plot(golier.nonPTSDTraumaExposedACTH_rearr_smooth[:,0], golier.nonPTSDTraumaExposedACTH_rearr_smooth[:,1], label = \"Trauma Exposed Non-PTSD ACTH - Smoothed\")\n",
    "ax5.plot(golier.nonPTSDTraumaExposedACTH_rearr[:,0], golier.nonPTSDTraumaExposedACTH_rearr[:,1], label = \"Trauma Exposed Non-PTSD ACTH\")\n",
    "ax5.set(xlabel=\"Time (minutes)\", ylabel=\"ACTH (pg/mL)\")\n",
    "ax5.legend(loc=\"lower right\", shadow = True, fancybox = True)\n",
    "\n",
    "ax6.plot(golier.nonPTSDNonExposedACTH_rearr_smooth[:,0], golier.nonPTSDNonExposedACTH_rearr_smooth[:,1], label = \"Non-Exposed Non-PTSD ACTH - Smoothed\")\n",
    "ax6.plot(golier.nonPTSDNonExposedACTH_rearr[:,0], golier.nonPTSDNonExposedACTH_rearr[:,1], label = \"Non-Exposed Non-PTSD ACTH\")\n",
    "ax6.set(xlabel=\"Time (minutes)\", ylabel=\"ACTH (pg/mL)\")\n",
    "ax6.legend(loc=\"lower right\", shadow = True, fancybox = True)\n"
   ]
  },
  {
   "cell_type": "code",
   "execution_count": null,
   "metadata": {},
   "outputs": [],
   "source": [
    "%matplotlib inline\n",
    "\n",
    "fig, (ax1, ax2, ax3) = plt.subplots(nrows = 3, figsize = (15,15))\n",
    "\n",
    "ax1.plot(bremner.abusedPTSDCortisol_rearr_smooth[:,0], bremner.abusedPTSDCortisol_rearr_smooth[:,1], label = \"Abused PTSD Cortisol - Smoothed\")\n",
    "ax1.plot(bremner.abusedPTSDCortisol_rearr[:,0], bremner.abusedPTSDCortisol_rearr[:,1], label = \"Abused PTSD Cortisol\")\n",
    "ax1.set(xlabel=\"Time (minutes)\", ylabel=\"Cortisol (microg/dL)\")\n",
    "ax1.legend(loc=\"lower right\", shadow = True, fancybox = True)\n",
    "\n",
    "ax2.plot(bremner.nonAbusedPTSDCortisol_rearr_smooth[:,0], bremner.nonAbusedPTSDCortisol_rearr_smooth[:,1], label = \"Non-Abused PTSD Cortisol - Smoothed\")\n",
    "ax2.plot(bremner.nonAbusedPTSDCortisol_rearr[:,0], bremner.nonAbusedPTSDCortisol_rearr[:,1], label = \"Non-Abused PTSD Cortisol\")\n",
    "ax2.set(xlabel=\"Time (minutes)\", ylabel=\"Cortisol (microg/dL)\")\n",
    "ax2.legend(loc=\"lower right\", shadow = True, fancybox = True)\n",
    "\n",
    "ax3.plot(bremner.nonAbusedNonPTSDCortisol_rearr_smooth[:,0], bremner.nonAbusedNonPTSDCortisol_rearr_smooth[:,1], label = \"Non-Abused Non-PTSD Cortisol - Smoothed\")\n",
    "ax3.plot(bremner.nonAbusedNonPTSDCortisol_rearr[:,0], bremner.nonAbusedNonPTSDCortisol_rearr[:,1], label = \"Non-Abused Non-PTSD Cortisol\")\n",
    "ax3.set(xlabel=\"Time (minutes)\", ylabel=\"Cortisol (microg/dL)\")\n",
    "ax3.legend(loc=\"lower left\", shadow = True, fancybox = True)\n"
   ]
  },
  {
   "cell_type": "code",
   "execution_count": null,
   "metadata": {},
   "outputs": [],
   "source": [
    "%matplotlib inline\n",
    "\n",
    "fig, (ax1, ax2) = plt.subplots(nrows = 2, figsize = (15, 15))\n",
    "\n",
    "ax1.plot(nelson.ACTH[:,0], nelson.ACTH[:,1])\n",
    "ax2.plot(nelson.cortisol[:,0], nelson.cortisol[:,1])"
   ]
  },
  {
   "cell_type": "markdown",
   "metadata": {},
   "source": [
    "[Back to Top](#top)"
   ]
  },
  {
   "cell_type": "markdown",
   "metadata": {},
   "source": [
    "## Model Function--Includes ODE Solver <a name=\"modelfunction\"></a>"
   ]
  },
  {
   "cell_type": "code",
   "execution_count": null,
   "metadata": {},
   "outputs": [],
   "source": [
    "def model(params, ics):\n",
    "    def ode_system(t, y):\n",
    "        dy = np.zeros(3)\n",
    "\n",
    "        [a_0, a_1, a_5, w_1, w_2, w_3, delta] = params\n",
    "        \n",
    "        dy[0] = a_0 + C(t, delta, alpha, beta, eps, k, l)*(a_1/(1 + a_2*y[2]**2))*(y[0]/(mu + y[0])) - w_1*y[0]\n",
    "        dy[1] = (a_3*y[0])/(1 + a_4*y[2]) - w_2*y[1]\n",
    "        dy[2] = a_5*(y[1]**2) - w_3*y[2]\n",
    "\n",
    "        return dy\n",
    "    \n",
    "    def C(t, delta, alpha, beta, eps, k, l):\n",
    "        t_m = (t - delta)%T\n",
    "        return N_c*(((t_m**k)/(t_m**k + alpha**k))*(((T - t_m)**l)/((T - t_m)**l + beta**l)) + eps)\n",
    "        \n",
    "    # Call the solve() function from my DEsolver module, and pass all of the information it needs.\n",
    "    # Arguments are as follows: ODE function to solve, array of initial conditions, start time, step size, end time\n",
    "    timeSeries = DEsolver.solve(ode_system, ics, t_start, t_step, t_end)\n",
    "    return timeSeries"
   ]
  },
  {
   "cell_type": "markdown",
   "metadata": {},
   "source": [
    "[Back to Top](#top)"
   ]
  },
  {
   "cell_type": "markdown",
   "metadata": {},
   "source": [
    "## Cost Function Definition <a name=\"cost\"></a>"
   ]
  },
  {
   "cell_type": "code",
   "execution_count": null,
   "metadata": {},
   "outputs": [],
   "source": [
    "def cost_fun(params):\n",
    "    simData = model(params, y0)\n",
    "    \n",
    "    return costFun.SSE_cost(nelson.ACTH[:,0], nelson.ACTH[:,1], nelson.cortisol[:,0], nelson.cortisol[:,1], simData)"
   ]
  },
  {
   "cell_type": "markdown",
   "metadata": {},
   "source": [
    "[Back to Top](#top)"
   ]
  },
  {
   "cell_type": "markdown",
   "metadata": {},
   "source": [
    "## Run the Optimization <a name=\"run\"></a>"
   ]
  },
  {
   "cell_type": "code",
   "execution_count": null,
   "metadata": {},
   "outputs": [],
   "source": [
    "# it looks, based on the XPP file from the authors, like they start CRH, ACTH, CORT and GR at 0 each and just run\n",
    "# the solver until they reach some steady state\n",
    "\n",
    "y0 = [0, nelson.ACTH[0,1], nelson.cortisol[0,1]]"
   ]
  },
  {
   "cell_type": "code",
   "execution_count": null,
   "metadata": {},
   "outputs": [],
   "source": [
    "# number of times to run the optimization\n",
    "n = 5\n",
    "\n",
    "# define an array to hold the population of parameter vectors\n",
    "opt_pars = np.zeros((n, len(bounds)+1))\n",
    "\n",
    "# initialize arrays to save simulation cortisol and ACTH data from each optimization\n",
    "sims_cort = np.zeros((14002, n))\n",
    "sims_acth = np.zeros((14002, n))\n",
    "sims_crh = np.zeros((14002, n))"
   ]
  },
  {
   "cell_type": "code",
   "execution_count": null,
   "metadata": {
    "scrolled": true
   },
   "outputs": [],
   "source": [
    "%%time\n",
    "\n",
    "# loop n times, running the optimization each time\n",
    "for i in range(0,n):\n",
    "    \n",
    "    print(f\"Optimization Run #{i+1}\")\n",
    "    \n",
    "    # call the differential evolution optimization function on the cost function\n",
    "    res = sco.differential_evolution(cost_fun, bounds, maxiter = 999, disp = True, popsize = 2)\n",
    "    \n",
    "    # alternatively, we can run the SHGO algorithm with the sampling_method = \"sobol\" flag to do global\n",
    "    #     optimization with reporting all local minima, as well\n",
    "    #res = sco.shgo(cost_fun, bounds, callback=callback_fun(*shgo_iter_steps), options = {\"f_min\": 0.1, \"maxiter\": None, \"minimize_every_iter\": True, \"local_iter\": False, \"disp\": True}, iters = 3)\n",
    "    #res = sco.basinhopping(cost_fun, x0, niter = 1000)\n",
    "    #res = sco.dual_annealing(cost_fun, bounds)\n",
    "    \n",
    "    # plug the optimized parameters into the solver\n",
    "    optimizedSimData = model(res.x, y0)\n",
    "    # save CRH, cortisol and ACTH data into sims arrays\n",
    "    sims_cort[:,i] = optimizedSimData[:,3]\n",
    "    sims_acth[:,i] = optimizedSimData[:,2]\n",
    "    sims_crh[:,i] = optimizedSimData[:,1]\n",
    "    \n",
    "    # save the cost function values and optimized parameters for each iteration into the array opt_pars\n",
    "    opt_pars[i,0] = res.fun\n",
    "    opt_pars[i,1:] = res.x"
   ]
  },
  {
   "cell_type": "markdown",
   "metadata": {},
   "source": [
    "[Back to Top](#top)"
   ]
  },
  {
   "cell_type": "markdown",
   "metadata": {},
   "source": [
    "## Save Output to File <a name=\"saveoutput\"></a>"
   ]
  },
  {
   "cell_type": "code",
   "execution_count": null,
   "metadata": {},
   "outputs": [],
   "source": [
    "df_t = pd.DataFrame(optimizedSimData[:,0])\n",
    "df_cort = pd.DataFrame(sims_cort)\n",
    "df_acth = pd.DataFrame(sims_acth)\n",
    "df_crh = pd.DataFrame(sims_crh)\n",
    "\n",
    "df_t.to_excel(excel_writer = 'bangsgaardModel_output/bangsgaardModel-nelson-patientMean-timeSteps-5-iterations-expanded-bounds-normalizedCost.xlsx')\n",
    "df_cort.to_excel(excel_writer = 'bangsgaardModel_output/bangsgaardModel-nelson-patientMean-sims-cort-5-iterations-expanded-bounds-normalizedCost.xlsx')\n",
    "df_acth.to_excel(excel_writer = 'bangsgaardModel_output/bangsgaardModel-nelson-patientMean-sims-acth-5-iterations-expanded-bounds-normalizedCost.xlsx')\n",
    "df_crh.to_excel(excel_writer = 'bangsgaardModel_output/bangsgaardModel-nelson-patientMean-sims-crh-5-iterations-expanded-bounds-normalizedCost.xlsx')"
   ]
  },
  {
   "cell_type": "code",
   "execution_count": null,
   "metadata": {},
   "outputs": [],
   "source": [
    "np.savetxt('bangsgaardModel_output/bangsgaardModel-nelson-patientMean-opt-pars-5-iterations-expanded-bounds-normalizedCost.txt', opt_pars)\n",
    "np.savetxt('bangsgaardModel_output/bangsgaardModel-nelson-patientMean-sims-crh-5-iterations-expanded-bounds-normalizedCost.txt', sims_crh)\n",
    "np.savetxt('bangsgaardModel_output/bangsgaardModel-nelson-patientMean-sims-acth-5-iterations-expanded-bounds-normalizedCost.txt', sims_acth)\n",
    "np.savetxt('bangsgaardModel_output/bangsgaardModel-nelson-patientMean-sims-cort-5-iterations-expanded-bounds-normalizedCost.txt', sims_cort)\n",
    "np.savetxt('bangsgaardModel_output/bangsgaardModel-nelson-patientMean-initial-conditions-5-iterations-expanded-bounds-normalizedCost.txt', y0)\n",
    "np.savetxt('bangsgaardModel_output/bangsgaardModel-nelson-patientMean-bounds-5-iterations-expanded-bounds-normalizedCost.txt', bounds)"
   ]
  },
  {
   "cell_type": "markdown",
   "metadata": {},
   "source": [
    "[Back to Top](#top)"
   ]
  },
  {
   "cell_type": "markdown",
   "metadata": {},
   "source": [
    "## Compute Means and Std Devations of Parameters and Output as Table <a name=\"paramtable\"></a>"
   ]
  },
  {
   "cell_type": "code",
   "execution_count": null,
   "metadata": {},
   "outputs": [],
   "source": [
    "#a_0_mean = np.mean(opt_pars[:,1])\n",
    "#a_0_std = np.std(opt_pars[:,1])\n",
    "#a_1_mean = np.mean(opt_pars[:,2])\n",
    "#a_1_std = np.std(opt_pars[:,2])\n",
    "#a_2_mean = np.mean(opt_pars[:,3])\n",
    "#a_2_std = np.std(opt_pars[:,3])\n",
    "#a_3_mean = np.mean(opt_pars[:,4])\n",
    "#a_3_std = np.std(opt_pars[:,4])\n",
    "#a_4_mean = np.mean(opt_pars[:,5])\n",
    "#a_4_std = np.std(opt_pars[:,5])\n",
    "#a_5_mean = np.mean(opt_pars[:,6])\n",
    "#a_5_std = np.std(opt_pars[:,6])\n",
    "#mu_mean = np.mean(opt_pars[:,7])\n",
    "#mu_std = np.std(opt_pars[:,7])\n",
    "#w_1_mean = np.mean(opt_pars[:,8])\n",
    "#w_1_std = np.std(opt_pars[:,8])\n",
    "#w_2_mean = np.mean(opt_pars[:,9])\n",
    "#w_2_std = np.std(opt_pars[:,9])\n",
    "#w_3_mean = np.mean(opt_pars[:,10])\n",
    "#w_3_std = np.std(opt_pars[:,10])\n",
    "#delta_mean = np.mean(opt_pars[:,11])\n",
    "#delta_std = np.std(opt_pars[:,11])\n",
    "#alpha_mean = np.mean(opt_pars[:,12])\n",
    "#alpha_std = np.std(opt_pars[:,12])\n",
    "#k_mean = np.mean(opt_pars[:,13])\n",
    "#k_std = np.std(opt_pars[:,13])\n",
    "#beta_mean = np.mean(opt_pars[:,14])\n",
    "#beta_std = np.std(opt_pars[:,14])\n",
    "#l_mean = np.mean(opt_pars[:,15])\n",
    "#l_std = np.std(opt_pars[:,15])\n",
    "#eps_mean = np.mean(opt_pars[:,16])\n",
    "#eps_std = np.std(opt_pars[:,16])\n",
    "#N_c_mean = np.mean(opt_pars[:,17])\n",
    "#N_c_std = np.std(opt_pars[:,17])"
   ]
  },
  {
   "cell_type": "code",
   "execution_count": null,
   "metadata": {},
   "outputs": [],
   "source": [
    "#print(tabulate([[\"a_0\", \"%f +- %f\" % (a_0_mean, a_0_std)], [\"a_1\", \"%f +- %f\" % (a_1_mean, a_1_std)], [\"a_2\", \"%f +- %f\" % (a_2_mean, a_2_std)], [\"a_3\", \"%f +- %f\" % (a_3_mean, a_3_std)], [\"a_4\", \"%f +- %f\" % (a_4_mean, a_4_std)], [\"a_5\", \"%f +- %f\" % (a_5_mean, a_5_std)], [\"mu\", \"%f +- %f\" % (mu_mean, mu_std)], [\"w_1\", \"%f +- %f\" % (w_1_mean, w_1_std)], [\"w_2\", \"%f +- %f\" % (w_2_mean, w_2_std)], [\"w_3\", \"%f +- %f\" % (w_3_mean, w_3_std)], [\"delta\", \"%f +- %f\" % (delta_mean, delta_std)], [\"alpha\", \"%f +- %f\" % (alpha_mean, alpha_std)], [\"k\", \"%f +- %f\" % (k_mean, k_std)], [\"beta\", \"%f +- %f\" % (beta_mean, beta_std)], [\"l\", \"%f +- %f\" % (l_mean, l_std)], [\"eps\", \"%f +- %f\" % (eps_mean, eps_std)], [\"N_c\", \"%f +- %f\" % (N_c_mean, N_c_std)]], headers = [\"Parameter\", \"Mean +- Standard Deviation\"]))\n"
   ]
  },
  {
   "cell_type": "code",
   "execution_count": null,
   "metadata": {},
   "outputs": [],
   "source": [
    "#np.savetxt('bangsgaardModel_output/bangsgaardModel-nelson-patientMean-param-means-stds-5-iterations-expanded-bounds.txt', [a_0_mean, a_0_std, a_1_mean, a_1_std, a_2_mean, a_2_std, a_3_mean, a_3_std, a_4_mean, a_4_std, a_5_mean, a_5_std, mu_mean, mu_std, w_1_mean, w_1_std, w_2_mean, w_2_std, w_3_mean, w_3_std, delta_mean, delta_std, alpha_mean, alpha_std, k_mean, k_std, beta_mean, beta_std, l_mean, l_std, eps_mean, eps_std, N_c_mean, N_c_std])"
   ]
  },
  {
   "cell_type": "code",
   "execution_count": null,
   "metadata": {},
   "outputs": [],
   "source": [
    "a_0_mean = np.mean(opt_pars[:,1])\n",
    "a_1_mean = np.mean(opt_pars[:,2])\n",
    "a_5_mean = np.mean(opt_pars[:,3])\n",
    "w_1_mean = np.mean(opt_pars[:,4])\n",
    "w_2_mean = np.mean(opt_pars[:,5])\n",
    "w_3_mean = np.mean(opt_pars[:,6])\n",
    "delta_mean = np.mean(opt_pars[:,7])"
   ]
  },
  {
   "cell_type": "code",
   "execution_count": null,
   "metadata": {},
   "outputs": [],
   "source": [
    "a_0_std = np.std(opt_pars[:,1])\n",
    "a_1_std = np.std(opt_pars[:,2])\n",
    "a_5_std = np.std(opt_pars[:,3])\n",
    "w_1_std = np.std(opt_pars[:,4])\n",
    "w_2_std = np.std(opt_pars[:,5])\n",
    "w_3_std = np.std(opt_pars[:,6])\n",
    "delta_std = np.std(opt_pars[:,7])\n",
    "param_stds = (a_0_std, a_1_std, a_5_std, w_1_std, w_2_std, w_3_std, delta_std)"
   ]
  },
  {
   "cell_type": "code",
   "execution_count": null,
   "metadata": {},
   "outputs": [],
   "source": [
    "print(tabulate([[\"a_0\", \"%f +- %f\" % (a_0_mean, a_0_std)], [\"a_1\", \"%f +- %f\" % (a_1_mean, a_1_std)], [\"a_5\", \"%f +- %f\" % (a_5_mean, a_5_std)], [\"w_1\", \"%f +- %f\" % (w_1_mean, w_1_std)], [\"w_2\", \"%f +- %f\" % (w_2_mean, w_2_std)], [\"w_3\", \"%f +- %f\" % (w_3_mean, w_3_std)], [\"delta\", \"%f +- %f\" % (delta_mean, delta_std)]], headers = [\"Parameter\", \"Mean +- Standard Deviation\"]))\n"
   ]
  },
  {
   "cell_type": "code",
   "execution_count": null,
   "metadata": {},
   "outputs": [],
   "source": [
    "np.savetxt('bangsgaardModel_output/bangsgaardModel-nelson-patientMean-param-means-stds-5-iterations-expanded-bounds-normalizedCost.txt', [a_0_mean, a_0_std, a_1_mean, a_1_std, a_5_mean, a_5_std, w_1_mean, w_1_std, w_2_mean, w_2_std, w_3_mean, w_3_std, delta_mean, delta_std])\n"
   ]
  },
  {
   "cell_type": "markdown",
   "metadata": {},
   "source": [
    "[Back to Top](#top)"
   ]
  },
  {
   "cell_type": "markdown",
   "metadata": {},
   "source": [
    "## Plots <a name=\"plots\"></a>"
   ]
  },
  {
   "cell_type": "code",
   "execution_count": null,
   "metadata": {},
   "outputs": [],
   "source": [
    "# graphing code for Nelson data\n",
    "\n",
    "%matplotlib inline\n",
    "matplotlib.rc('font', **{'size'   : 28})\n",
    "\n",
    "fig, (ax1, ax2, ax3) = plt.subplots(nrows = 3, figsize = (24, 35))\n",
    "\n",
    "ax1.plot(optimizedSimData[:,0], np.mean(sims_crh, axis = 1), label = \"Simulated CRH Mean\", color = \"blue\")\n",
    "ax1.fill_between(optimizedSimData[:,0], np.mean(sims_crh, axis = 1) - np.std(sims_crh, axis = 1), np.mean(sims_crh, axis = 1) + np.std(sims_crh, axis = 1), alpha = 0.3, label = \"Simulated CRH Standard Deviation\")\n",
    "ax1.legend(loc = \"upper left\", shadow = True, fancybox = True)\n",
    "ax1.set(xlabel = \"Time (h)\", ylabel = \"CRH (micrograms/dL)\", title = \"Simulated CRH\")\n",
    "\n",
    "\n",
    "# change this line when you change which data set you are matching\n",
    "ax2.plot(nelson.ACTH[:,0], nelson.ACTH[:,1], label = \"Nelson ACTH Data - Patient Mean\", color = \"orange\")\n",
    "\n",
    "# for only 1 iteration, uncomment below and comment the following line\n",
    "#ax2.plot(optimizedSimData[:,0], sims_acth, label = \"Simulated ACTH Data\", color = \"blue\")\n",
    "ax2.plot(optimizedSimData[:,0], np.mean(sims_acth, axis = 1), label = \"Simulated ACTH Mean\", color = \"blue\")\n",
    "ax2.fill_between(optimizedSimData[:,0], np.mean(sims_acth, axis = 1) - np.std(sims_acth, axis = 1), np.mean(sims_acth, axis = 1) + np.std(sims_acth, axis = 1), alpha = 0.3, label = \"Simulated ACTH Standard Deviation\")\n",
    "ax2.legend(loc = \"lower right\", shadow = True, fancybox = True)\n",
    "ax2.set(xlabel = \"Time (h)\", ylabel = \"ACTH (pg/mL)\", title = \"ACTH Concentrations\")\n",
    "\n",
    "# change this line when you change which data set you are matching\n",
    "ax3.plot(nelson.cortisol[:,0], nelson.cortisol[:,1], label = \"Nelson Cortisol Data - Patient Mean\", color = \"orange\")\n",
    "\n",
    "# for only 1 iteration, uncomment below and comment the following line\n",
    "#ax3.plot(optimizedSimData[:,0], sims_cort, label = \"Simulated Cortisol Data\", color = \"blue\")\n",
    "ax3.plot(optimizedSimData[:,0], np.mean(sims_cort, axis = 1), label = \"Simulated Cortisol Mean\", color = \"blue\")\n",
    "ax3.fill_between(optimizedSimData[:,0], np.mean(sims_cort, axis = 1) - np.std(sims_cort, axis = 1), np.mean(sims_cort, axis = 1) + np.std(sims_cort, axis = 1), alpha = 0.3, label = \"Simulated Cortisol Standard Deviation\")\n",
    "ax3.legend(loc = \"lower right\", shadow = True, fancybox = True)\n",
    "ax3.set(xlabel = \"Time (h)\", ylabel = \"Cortisol (micrograms/dL)\", title = \"Cortisol Concentrations\")\n",
    "\n",
    "# include the value of the cost function for this set of graphs at the bottom of the figure\n",
    "txt = \"cost = [0.145695, 0.306549]\"\n",
    "plt.figtext(0.1, 0.09, txt, wrap = True, horizontalalignment = 'center', fontsize = 30)\n",
    "plt.savefig(\"bangsgaardModel_output/bangsgaardModel-nelson-patientMean-5-iterations-expanded-bounds-normalizedCost.png\", dpi = 300)\n"
   ]
  },
  {
   "cell_type": "markdown",
   "metadata": {},
   "source": [
    "[Back to Top](#top)"
   ]
  },
  {
   "cell_type": "markdown",
   "metadata": {},
   "source": [
    "## No Optimization Run <a name=\"no-opt\"></a>"
   ]
  },
  {
   "cell_type": "code",
   "execution_count": null,
   "metadata": {},
   "outputs": [],
   "source": [
    "print(patientF.ACTH_smooth[0,1], patientF.cortisol_smooth[0,1])"
   ]
  },
  {
   "cell_type": "code",
   "execution_count": null,
   "metadata": {},
   "outputs": [],
   "source": [
    "y0 = [5, patientF.ACTH_smooth[0,1], patientF.cortisol_smooth[0,1]]"
   ]
  },
  {
   "cell_type": "code",
   "execution_count": null,
   "metadata": {},
   "outputs": [],
   "source": [
    "%%time\n",
    "\n",
    "data_no_opt = model(authors_params, y0)"
   ]
  },
  {
   "cell_type": "markdown",
   "metadata": {},
   "source": [
    "### Plot the No-Optimization Simulation Against Raw Data <a name=\"no-optplot\"></a>"
   ]
  },
  {
   "cell_type": "code",
   "execution_count": null,
   "metadata": {},
   "outputs": [],
   "source": [
    "%matplotlib inline\n",
    "\n",
    "#mpld3.enable_notebook()\n",
    "\n",
    "# I want to graph the following:\n",
    "#     - Average Cortisol, ACTH and CRH values over 24h period between all parameter sets for each data set\n",
    "#     - Shaded area for mean +- standard deviation for each parameter for each data set\n",
    "#     - Plot the raw data values on each plot for comparison\n",
    "\n",
    "fig1, (ax1,ax2,ax3) = plt.subplots(nrows=3, figsize=(15,15))\n",
    "ax1.plot(data_no_opt[:,0], data_no_opt[:,1], label = \"CRH\")\n",
    "ax1.set(xlabel = \"Time (min)\", ylabel = \"CRH (pg/mL)\")\n",
    "ax1.legend(loc=\"upper right\", shadow = True, fancybox = True)\n",
    "ax2.plot(data_no_opt[:,0], data_no_opt[:,2], label = \"ACTH\")\n",
    "ax2.plot(patientF.ACTH[:,0], patientF.ACTH_smooth[:,1], 'm', label = \"ACTH Raw Data (Carroll, 2007)\")\n",
    "ax2.set(xlabel = \"Time (min)\", ylabel = \"ACTH (pg/mL)\")\n",
    "ax2.legend(loc=\"upper right\", shadow = True, fancybox = True)\n",
    "ax3.plot(data_no_opt[:,0], data_no_opt[:,3], label = \"Cortisol\")\n",
    "ax3.plot(patientF.cortisol[:,0], patientF.cortisol_smooth[:,1], 'm', label = \"Cortisol Raw Data (Carroll, 2007)\")\n",
    "ax3.set(xlabel = \"Time (min)\", ylabel = \"Cortisol (micrograms/mL)\")\n",
    "ax3.legend(loc=\"upper right\", shadow = True, fancybox = True)"
   ]
  },
  {
   "cell_type": "markdown",
   "metadata": {},
   "source": [
    "[Back to Top](#top)"
   ]
  },
  {
   "cell_type": "markdown",
   "metadata": {},
   "source": [
    "## No Optimization Run--Iterate Over Multiple CRH Initial Conditions <a name=\"multipleCRH\"></a>"
   ]
  },
  {
   "cell_type": "code",
   "execution_count": null,
   "metadata": {},
   "outputs": [],
   "source": [
    "# loop through initial conditions for CRH to see how the graph changes\n",
    "CRH_vals = np.arange(0, 50, 0.1)\n",
    "IC_array = np.zeros((len(CRH_vals), 3))\n",
    "\n",
    "for index, item in enumerate(CRH_vals):\n",
    "    IC_array[index, 0] = item\n",
    "    IC_array[index, 1] = 8.725314\n",
    "    IC_array[index, 2] = 1.158798"
   ]
  },
  {
   "cell_type": "code",
   "execution_count": null,
   "metadata": {},
   "outputs": [],
   "source": [
    "no_opt = np.zeros((len(CRH_vals), 144003, 4))"
   ]
  },
  {
   "cell_type": "code",
   "execution_count": null,
   "metadata": {},
   "outputs": [],
   "source": [
    "for index, item in enumerate(IC_array):\n",
    "    print(\"Run #\", index)\n",
    "    no_opt[index, :, :] = model(authors_params, item)"
   ]
  },
  {
   "cell_type": "code",
   "execution_count": null,
   "metadata": {},
   "outputs": [],
   "source": [
    "CRH_labels = []\n",
    "ACTH_labels = []\n",
    "Cortisol_labels = []\n",
    "\n",
    "for index, item in enumerate(IC_array):\n",
    "    CRH_labels.append(\"CRH Simulation #\" + str(index) + \": CRH = \" + str(item[0]))\n",
    "    ACTH_labels.append(\"ACTH Simulation #\" + str(index) + \": ACTH = \" + str(item[1]))                  \n",
    "    Cortisol_labels.append(\"Cortisol Simulation #\" + str(index) + \": Cortisol = \" + str(item[2]))"
   ]
  },
  {
   "cell_type": "code",
   "execution_count": null,
   "metadata": {},
   "outputs": [],
   "source": [
    "%matplotlib inline\n",
    "\n",
    "# plot the simulations together to see how increasing initial CRH value\n",
    "# changes behavior\n",
    "\n",
    "fig, (ax1, ax2, ax3) = plt.subplots(nrows = 3, figsize = (15, 15))\n",
    "\n",
    "for index, item in enumerate(no_opt):\n",
    "    ax1.plot(item[:,0], item[:,1], label = CRH_labels[index])\n",
    "    ax2.plot(item[:,0], item[:,2], label = ACTH_labels[index])\n",
    "    ax3.plot(item[:,0], item[:,3], label = Cortisol_labels[index])\n",
    "\n",
    "ax1.set(xlabel = \"Time (min)\", ylabel = \"CRH (pg/mL)\")\n",
    "ax1.legend(loc=\"upper right\", shadow = True, fancybox = True)\n",
    "\n",
    "ax2.plot(patientF.ACTH[:,0], patientF.ACTH_smooth[:,1], 'm', label = \"Patient F ACTH - Smoothed\")\n",
    "ax2.set(xlabel = \"Time (min)\", ylabel = \"ACTH (pg/mL)\")\n",
    "ax2.legend(loc=\"upper right\", shadow = True, fancybox = True)\n",
    "\n",
    "ax3.plot(patientF.cortisol[:,0], patientF.cortisol_smooth[:,1], 'm', label = \"Patient F Cortisol - Smoothed\")\n",
    "ax3.set(xlabel = \"Time (min)\", ylabel = \"Cortisol (micrograms/mL)\")\n",
    "ax3.legend(loc=\"upper right\", shadow = True, fancybox = True)"
   ]
  },
  {
   "cell_type": "markdown",
   "metadata": {},
   "source": [
    "[Back to Top](#top)"
   ]
  },
  {
   "cell_type": "markdown",
   "metadata": {},
   "source": [
    "## Dependencies <a name=\"dependencies\"></a>"
   ]
  },
  {
   "cell_type": "code",
   "execution_count": null,
   "metadata": {},
   "outputs": [],
   "source": [
    "%load_ext watermark"
   ]
  },
  {
   "cell_type": "code",
   "execution_count": null,
   "metadata": {},
   "outputs": [],
   "source": [
    "%watermark --iversions"
   ]
  },
  {
   "cell_type": "markdown",
   "metadata": {},
   "source": [
    "[Back to Top](#top)"
   ]
  }
 ],
 "metadata": {
  "kernelspec": {
   "display_name": "Python 3",
   "language": "python",
   "name": "python3"
  },
  "language_info": {
   "codemirror_mode": {
    "name": "ipython",
    "version": 3
   },
   "file_extension": ".py",
   "mimetype": "text/x-python",
   "name": "python",
   "nbconvert_exporter": "python",
   "pygments_lexer": "ipython3",
   "version": "3.7.7"
  }
 },
 "nbformat": 4,
 "nbformat_minor": 2
}
