{
 "cells": [
  {
   "cell_type": "markdown",
   "metadata": {},
   "source": [
    "# Bangsgaard and Ottesen (2017) Model Code <a name=\"top\" />"
   ]
  },
  {
   "cell_type": "markdown",
   "metadata": {},
   "source": [
    "# Table of Contents\n",
    "1. [Instructions](#instructions)\n",
    "    1. [Parameter Optimization Against TSST Data Sets](#TSSTInstructions)\n",
    "    2. [Parameter Optimization Against Basal Data Sets](#basalInstructions)\n",
    "    3. [Running Without Parameter Optimization](#noOptInstructions)\n",
    "2. [Imports](#imports)\n",
    "3. [Parameters and Initial Conditions](#params)\n",
    "4. [Put Raw Data into Arrays](#rawdata)\n",
    "    1. [Plot Data Sets](#plotdata)\n",
    "5. [Model Function--Includes ODE Solver](#modelfunction)\n",
    "6. [Cost Function Definition](#cost)\n",
    "7. [Run the Optimization](#run)\n",
    "8. [Save Output to File](#saveoutput)\n",
    "9. [Compute Means and Std Devations of Parameters and Output as Table](#paramtable)\n",
    "10. [Plots](#plots)\n",
    "11. [No Optimization Run](#no-opt)\n",
    "12. [No Optimization Run--Iterate Over Multiple CRH Initial Conditions](#multipleCRH)\n",
    "13. [Dependencies](#dependencies)"
   ]
  },
  {
   "cell_type": "markdown",
   "metadata": {},
   "source": [
    "## Instructions <a name=\"instructions\"></a>"
   ]
  },
  {
   "cell_type": "markdown",
   "metadata": {},
   "source": [
    "### Parameter Optimization Against TSST Data Sets <a name=\"TSSTInstructions\" />\n",
    "\n",
    "**Note:** To quickly run a cell (or a selection of cells), use the shortcut Shift+Enter (or you can also use the button labeled \"Run\" in the toolbar at the top).\n",
    "\n",
    "To run simulations with parameter optimization against TSST data, there is no need to change any cells until the heading **Run the Optimization**. Simply run all cells up to the cell below that heading.\n",
    "\n",
    "In order to set which data set to optimize parameters against, look for the following line of code:\n",
    "    \n",
    "    data_to_match = [nelson.ACTH[:,0], nelson.ACTH[:,1], nelson.cortisol[:,0], nelson.cortisol[:,1]]\n",
    "\n",
    "In order to run against a patient from the TSST data sets, simply change the list entries to reflect the patient number and subject group. The subject groups are:\n",
    "\n",
    "- nelson.melancholicACTH & nelson.melancholicCortisol (15 patients)\n",
    "- nelson.atypicalACTH & nelson.atypicalCortisol (14 patients)\n",
    "- nelson.neitherACTH & nelson.neitherCortisol (14 patients)\n",
    "- nelson.healthyACTH & nelson.healthyCortisol (15 patients)\n",
    "\n",
    "You could also run against the mean of all patients cortisol and ACTH concentration values by using `nelson.ACTH[:,1]` and `nelson.cortisol[:,1]`. Or you can run against the mean of any subgroup using `nelson.<subgroup name>Cortisol_mean[:,1]` and `nelson.<subgroup name>ACTH_mean[:,1]` (for instance `nelson.melancholicCortisol_mean[:,1]` & `nelson.melancholicACTH_mean[:,1]`). \n",
    "\n",
    "Note that the first column in each data set is the time steps, so indexing with `[:,0]` is referring to the time. These are the values we need to set as the first (ACTH time steps) and third (cortisol time steps) indices of the `data_to_match` list.\n",
    "\n",
    "The following are several examples of lists you could use for parameter optimization with explanations:\n",
    "\n",
    "- `nelson.melancholicACTH[:,0], nelson.melancholicACTH[:,1], nelson.melancholicCortisol[:,0], nelson.melancholicCortisol[:,1]`\n",
    "    - The 1st patient in the Melancholic subgroup\n",
    "- `nelson.atypicalACTH[:,0], nelson.atypicalACTH[:,14], nelson.atypicalCortisol[:,0], nelson.atypicalCortisol[:,14]`\n",
    "    - The 14th patient in the Atypical subgroup\n",
    "- `nelson.healthyACTH[:,0], nelson.healthyACTH[:,2], nelson.healthyCortisol[:,0], nelson.healthyCortisol[:,2]`\n",
    "    - The 2nd patient in the Healthy Control group\n",
    "- `nelson.ACTH[:,0], nelson.ACTH[:,1], nelson.cortisol[:,0], nelson.cortisol[:,1]`\n",
    "    - The mean data set for all patients (depressed and control)\n",
    "- `nelson.healthyACTH_mean[:,0], nelson.healthyACTH_mean[:,1], nelson.healthyCortisol_mean[:,0], nelson.healthyCortisol_mean[:,1]`\n",
    "    - The mean of all control patients\n",
    "    \n",
    "Next, you need to decide whether you will optimize any initial conditions (ICs). This can be modified in the function `cost_fun(params)`. In the cost function, we use the first two optimized parameters in the list returned by the optimization algorithm to set the IC(s) we want to optimize (CRH in this example):\n",
    "\n",
    "    y0 = [params[0], y0[1], y0[2]]\n",
    "\n",
    "We then need to pass only the remaining parameters in the list to the model, along with the updated ICs in y0:\n",
    "\n",
    "    simData = model(params[1:], y0)\n",
    "    \n",
    "If you want to not optimize any ICs, you would simply comment out the two lines above in `cost_fun()`, and uncomment the line:\n",
    "\n",
    "    #simData = model(params, y0)\n",
    "    \n",
    "In that case, you will likely want to change the ICs for CRH and GR, as they will stay the same for every iteration. Under the heading **Run the Optimization**, the following line should be modified to reflect the desired ICs:\n",
    "\n",
    "    y0 = [0, data_to_match[1][0], data_to_match[3][0]]\n",
    "    \n",
    "Be sure to leave the 2nd and 3rd indices unchanged, as these set the ICs to use the initial values of the real-world data set being matched.\n",
    "\n",
    "At this point, you are ready to run the optimization, so simply run the cells up to the heading **Save Output to File**. This may take some time, so while it is running you can move on to the next steps (if you run a cell while another is processing, it will add it to a queue).\n",
    "\n",
    "**Note:** You also have the option of using a cost function based on the maximum distance between simulation and real-world data. Simply change SSE_cost to MAX_cost, the instructions for function arguments remain the same.\n",
    "\n",
    "The cell directly under the heading **Save Output to File** can be changed so that the root filename matches the simulations being run. This root will be used to save all of the various data and figures generated. The current naming scheme would save the files for 5 iterations of parameter optimization against the mean data set from the Nelson with ICs for CRH optimized as:\n",
    "\n",
    "    filename_root = \"bangsgaardModel_output/nelson-patientMean-5-iterations-ICOpt\"\n",
    "\n",
    "This saves the files in a subfolder specific to this model, which helps keep files organized when running multiple models.\n",
    "\n",
    "The next few cells create an Excel file containing all of the concentration data and optimized parameter values, and text files containing the initial conditions, parameter bounds and parameter means +- standard deviation across the 5 iterations.\n",
    "\n",
    "The final step after saving the outputs is to plot the simulations against the real-world data. The cell under the heading **Plots** creates an instance of the Visualizer object from the VeVaPy module called visualize. This will start a dialog which asks for several inputs to generate figures as desired.\n",
    "\n",
    "After initialization of the object, run its method `make_graphs()`, and it will generate figures using the data you have specified. There are a number of arguments that can be optionally specified for this method, and you can see the recommended values for these in the following function call:\n",
    "\n",
    "    grapher.make_graphs(std_dev = True,\n",
    "                    sims_line_labels=[\"Simulated CRH\", \"Simulated ACTH\", \"Simulated Cortisol\"], \n",
    "                    graph_titles = [\"CRH Concentration\", \"ACTH Concentration\", \"Cortisol Concentration\"], \n",
    "                    real_data_labels = [\"\", \"Nelson ACTH - Patient Mean\", \"Nelson Cortisol - Patient Mean\"], \n",
    "                    xaxis_labels = [\"Time (min)\", \"Time (min)\", \"Time (min)\"], \n",
    "                    yaxis_labels = [\"CRH (micrograms/dL)\", \"ACTH (pg/mL)\", \"Cortisol (micrograms/dL)\"],\n",
    "                    savefile = filename_root+'.png')\n",
    "    \n",
    "### Parameter Optimization Against Basal Data Sets <a name=\"basalInstructions\" />\n",
    "\n",
    "Since these data sets have data points over a 24-hour period (1440 minutes), rather than 140.01 minutes, you will need to change the time interval over which the ODE solver integrates. To do this, go to the cell directly above the heading **Put Raw Data Into Arrays** and uncomment (delete the # at the start of the line) the lines:\n",
    "\n",
    "    t_start = -0.01\n",
    "    t_end = 1455.01\n",
    "    t_step = 0.01\n",
    "\n",
    "You'll need to comment out the other definitons for these variables (place a # at the start of the line).\n",
    "\n",
    "The reason you add the extra 15 minutes is that you need to make sure that when you interpolate between your simulated data points the line covers every real-world data point so that you don't cause issues when computing the cost function (and the last data point for the Golier cortisol concentration data sets is at 1455 minutes).\n",
    "\n",
    "After making this change, you need to again change the `data_to_match` list so that you are matching the basal data set in which you are interested. \n",
    "\n",
    "First, choose which data set you wish to match. Here are the options:\n",
    "\n",
    "- yehuda.controlCortisol\n",
    "- yehuda.PTSDCortisol\n",
    "- yehuda.depressedCortisol\n",
    "- carroll.controlCortisol & carroll.controlACTH\n",
    "- carroll.LCDepressedCortisol & carroll.LCDepressedACTH (LC = Low Cortisol)\n",
    "- carroll.HCDepressedCortisol & carroll.HCDepressedACTH (HC = High Cortisol)\n",
    "- golier.PTSDCortisol & golierPTSDACTH\n",
    "- golier.nonPTSDTraumaExposedCortisol & golier.nonPTSDTraumaExposedACTH\n",
    "- golier.nonPTSDNonExposedCortisol & golier.nonPTSDNonExposedACTH\n",
    "- bremner.abusedPTSDCortisol\n",
    "- bremner.nonAbusedPTSDCortisol\n",
    "- bremner.nonAbusedNonPTSDCortisol\n",
    "\n",
    "**Note:** To see what any of these data sets looks like, click on the **Plot Basal Data Sets** heading in the Table of Contents.\n",
    "\n",
    "**Note Also:** These data sets all come in smoothed versions (each data point is set to the average of the nearest 5 points of the unsmoothed data). Also, the data sets by Carroll, Golier and Bremner also come in rearranged (or smoothed & rearranged) versions to match the starting time of the Yehuda data (10AM). To use any of these versions, simply append one of the following tags to the end of the data set name (before the indices): `_smooth`, `_rearr`, or `_rearr_smooth`.\n",
    "\n",
    "First, I will cover what to do with data sets that contain both ACTH and cortisol values, and then afterwards I will cover using the Yehuda and Bremner data sets (which have only cortisol concentration data). Just as with the Nelson data, in all of these data sets the first column is the time step values. This means that if you take any of these arrays and index it with `[:,0]`, you are referring to the time steps. These are the values we need to set as the first (ACTH time steps) and third (cortisol time steps) indices of the `data_to_match` list.\n",
    "\n",
    "Then for the second and fourth indices, you index the same data sets with `[:,1]` to mean the second column (which contains the mean concentration values for each patient group).\n",
    "\n",
    "Here are a couple of examples showing arguments you can pass to the cost function:\n",
    "\n",
    "- `carroll.controlACTH_smooth[:,0], carroll.controlACTH_smooth[:,1], carroll.controlCortisol_smooth[:,0], carroll.controlCortisol_smooth[:,1]`\n",
    "    - The smoothed Control group mean for the Carroll data set\n",
    "- `golier.nonPTSDTraumaExposedACTH[:,0], golier.nonPTSDTraumaExposedACTH[:,1], golier.nonPTSDTraumaExposedCortisol[:,0], golier.nonPTSDTraumaExposedCortisol[:,1]`\n",
    "    - The Trauma-Exposed Control group mean for the Golier data set\n",
    "    \n",
    "In order to run simulations against data sets that do not include ACTH concentration data, you will need to change the name of the cost function to `optimize.SSE_cost_noACTH` and then update `data_to_match` to not include the two arguments for ACTH data. To use the Yehuda Control group data, this would look like:\n",
    "\n",
    "    data_to_match = [yehuda.controlCortisol[:,0], yehuda.controlCortisol[:,1]]\n",
    "    return optimize.SSE_cost_noACTH(data_to_match[0], data_to_match[1], simData)\n",
    "\n",
    "At this point, you're ready to run the parameter optimization, so run all of the cells under the heading **Run the Optimization**.\n",
    "\n",
    "The cell directly under the heading **Save Output to File** should again have the filename changed to something that reflects the data set you're matching now. For instance, the filename root when matching the smoothed Carroll Control group and optimizing ICs would become:\n",
    "\n",
    "    filename_root = 'bangsgaardModel_output/carroll-control-smooth-5-iterations-ICopt'\n",
    "            \n",
    "Finally, the cells under the heading **Plots** should be run again to generate graphs. The same process of giving inputs to the object dialog will be performed and then the method `make_graphs()` should be run with any optional arguments desired.\n",
    "\n",
    "### Running Without Parameter Optimization <a name=\"noOptInstructions\" />\n",
    "\n",
    "To run the model with any set of paramaters you desire, without optimization, you can use the cells under the heading **No Optimization Run**. Set the parameters, initial conditions and time interval you want to use by changing the values defined in the section **Parameters and Initial Conditions**. Then you can run the cells under the heading **Plots** as described for simulations with parameter optimization to create graphs."
   ]
  },
  {
   "cell_type": "markdown",
   "metadata": {},
   "source": [
    "[Back to Top](#top)"
   ]
  },
  {
   "cell_type": "markdown",
   "metadata": {},
   "source": [
    "## Imports <a name=\"imports\"></a>"
   ]
  },
  {
   "cell_type": "code",
   "execution_count": null,
   "metadata": {},
   "outputs": [],
   "source": [
    "import numpy as np\n",
    "import matplotlib.pyplot as plt\n",
    "import scipy.optimize as sco\n",
    "from scipy.interpolate import interp1d\n",
    "import mpld3\n",
    "from tabulate import tabulate\n",
    "import matplotlib\n",
    "import pandas as pd\n",
    "from VeVaPy import DEsolver, optimize\n",
    "from VeVaPy.dataImport import data\n",
    "from VeVaPy.visualize import Visualizer"
   ]
  },
  {
   "cell_type": "markdown",
   "metadata": {},
   "source": [
    "[Back to Top](#top)"
   ]
  },
  {
   "cell_type": "markdown",
   "metadata": {},
   "source": [
    "## Parameters and Initial Conditions <a name=\"params\"></a>"
   ]
  },
  {
   "cell_type": "code",
   "execution_count": null,
   "metadata": {},
   "outputs": [],
   "source": [
    "# initial conditions\n",
    "# order is: CRH, ACTH, Cortisol\n",
    "\n",
    "y0 = [2,8.725314,1.158798]"
   ]
  },
  {
   "cell_type": "code",
   "execution_count": null,
   "metadata": {},
   "outputs": [],
   "source": [
    "# authors' published parameters, from Table A1 & A2 for Control Patient F\n",
    "\n",
    "a_0 = 3.9031e-4\n",
    "a_1 = 6.839e12\n",
    "a_2 = 1.7809e9\n",
    "a_3 = 2.2803e4\n",
    "a_4 = 1.7745e5\n",
    "a_5 = 4.617e-4\n",
    "mu = 5.83e2\n",
    "w_1 = 0.0337\n",
    "w_2 = 0.0205\n",
    "w_3 = 0.0238\n",
    "delta = 83.8\n",
    "alpha = 300\n",
    "k = 5\n",
    "beta = 950\n",
    "l = 6\n",
    "eps = 0.01\n",
    "N_c = 0.5217\n",
    "T = 1440\n",
    "\n",
    "authors_params = [a_0, a_1, a_2, a_3, a_4, a_5, mu, w_1, w_2, w_3, delta, alpha, k, beta, l, eps, N_c]"
   ]
  },
  {
   "cell_type": "code",
   "execution_count": null,
   "metadata": {},
   "outputs": [],
   "source": [
    "# parameters for hypercortisolemic patients\n",
    "a_0 = 1.31e-1\n",
    "a_1 = 1.29e13\n",
    "a_2 = 1.78e9\n",
    "mu = 583\n",
    "a_3 = 2.28e4\n",
    "a_4 = 1.77e5\n",
    "a_5 = 3.03e-4\n",
    "w_1 = 4.57e-2\n",
    "w_2 = 1.46e-2\n",
    "w_3 = 2.10e-2\n",
    "delta = 2.01e1\n",
    "alpha = 300\n",
    "k = 5.\n",
    "beta = 950.\n",
    "l = 6.\n",
    "eps = 0.01\n",
    "N_c = 0.5217\n",
    "T = 1440.\n",
    "\n",
    "authors_params = [a_0, a_1, a_5, w_1, w_2, w_3, delta]"
   ]
  },
  {
   "cell_type": "code",
   "execution_count": null,
   "metadata": {},
   "outputs": [],
   "source": [
    "par = N_c\n",
    "plus_minus = par*0.25\n",
    "print(par - plus_minus, par + plus_minus)"
   ]
  },
  {
   "cell_type": "code",
   "execution_count": null,
   "metadata": {},
   "outputs": [],
   "source": [
    "# bounds for parameter optimization, based on Patient F parameters +- 25%\n",
    "# order is: a_0, a_1, a_2, a_3, a_4, a_5, mu, w_1, w_2, w_3, delta, alpha, k, beta, l, eps, N_c\n",
    "#bounds = [(0.0002927325, 0.0004878875), (5129250000000.0, 8548750000000.0), (1335675000.0, 2226125000.0), (17102.25, 28503.75), (133087.5, 221812.5), (0.000346275, 0.000577125), (437.25, 728.75), (0.025275, 0.042125), (0.015375, 0.025625), (0.01785, 0.02975), (62.85, 104.75), (225., 375.), (3.75, 6.25), (712.5, 1187.5), (4.5, 7.5), (0.0075, 0.0125), (0.391275, 0.652125)]\n"
   ]
  },
  {
   "cell_type": "code",
   "execution_count": null,
   "metadata": {},
   "outputs": [],
   "source": [
    "# expanded bounds, to see if that helps fitting at all\n",
    "bounds = ([0., 20.],[0., 0.15], [6.5e12, 2e13], [0.0001, 0.0005], [0., 0.6], [0.02, 0.06], [0.01, 0.03], [10., 1000.])"
   ]
  },
  {
   "cell_type": "code",
   "execution_count": null,
   "metadata": {},
   "outputs": [],
   "source": [
    "# define time interval for integration\n",
    "\n",
    "# time interval and step definition\n",
    "# all data sets end on 1440.0 or earlier except the Golier cortisol sets,\n",
    "# they end on 1455.0, so I should set t_end = 1455.01 when matching them\n",
    "#t_start = -0.01\n",
    "#t_end = 1455.01\n",
    "#t_step = 0.01\n",
    "\n",
    "# time interval and step definition for integration\n",
    "t_start = -0.01\n",
    "t_end = 140.01\n",
    "t_step = 0.01"
   ]
  },
  {
   "cell_type": "markdown",
   "metadata": {},
   "source": [
    "[Back to Top](#top)"
   ]
  },
  {
   "cell_type": "markdown",
   "metadata": {},
   "source": [
    "## Put Raw Data Into Arrays <a name=\"rawdata\"></a>"
   ]
  },
  {
   "cell_type": "code",
   "execution_count": null,
   "metadata": {},
   "outputs": [],
   "source": [
    "# Create an instance of the data class for each data set contained in the HPAmodeling library, and set the time\n",
    "# scale to hours.\n",
    "yehuda = data(\"yehuda\", \"minutes\")\n",
    "carroll = data(\"carroll\", \"minutes\")\n",
    "golier = data(\"golier\", \"minutes\")\n",
    "bremner = data(\"bremner\", \"minutes\")\n",
    "nelson = data(\"nelson\", \"minutes\")\n",
    "patientF = data(\"patientF\", \"minutes\")"
   ]
  },
  {
   "cell_type": "markdown",
   "metadata": {},
   "source": [
    "### Plot Data Sets <a name=\"plotdata\"></a>"
   ]
  },
  {
   "cell_type": "code",
   "execution_count": null,
   "metadata": {},
   "outputs": [],
   "source": [
    "# plot the smoothed data to check it against the figures in the paper\n",
    "#mpld3.enable_notebook()\n",
    "%matplotlib inline\n",
    "fig, (ax1,ax2) = plt.subplots(nrows=2, figsize=(10,7))\n",
    "\n",
    "ax1.plot(patientF.ACTH[:,0], patientF.ACTH[:,1])\n",
    "ax1.plot(patientF.ACTH_smooth[:,0], patientF.ACTH_smooth[:,1], color = \"orange\")\n",
    "ax1.set(xlabel=\"Time (minutes)\", ylabel=\"ACTH (pg/mL)\")\n",
    "\n",
    "ax2.plot(patientF.cortisol[:,0], patientF.cortisol[:,1])\n",
    "ax2.plot(patientF.cortisol_smooth[:,0], patientF.cortisol_smooth[:,1], color = \"orange\")\n",
    "ax2.set(xlabel=\"Time (minutes)\", ylabel=\"Cortisol (micrograms/dL)\")"
   ]
  },
  {
   "cell_type": "code",
   "execution_count": null,
   "metadata": {},
   "outputs": [],
   "source": [
    "fig, (ax1, ax2, ax3) = plt.subplots(nrows = 3, figsize = (15,15))\n",
    "\n",
    "ax1.plot(yehuda.controlCortisol[:,0], yehuda.controlCortisol[:,1], label = \"Control Group Cortisol\")\n",
    "ax1.plot(yehuda.controlCortisol_smooth[:,0], yehuda.controlCortisol_smooth[:,1], label = \"Control Group Cortisol - Smoothed\")\n",
    "ax1.set(xlabel=\"Time (minutes)\", ylabel=\"Cortisol (micrograms/dL)\")\n",
    "ax1.legend(loc=\"lower right\", shadow = True, fancybox = True)\n",
    "\n",
    "ax2.plot(yehuda.PTSDCortisol[:,0], yehuda.PTSDCortisol[:,1], label = \"PTSD Group Cortisol\")\n",
    "ax2.plot(yehuda.PTSDCortisol_smooth[:,0], yehuda.PTSDCortisol_smooth[:,1], label = \"PTSD Group Cortisol - Smoothed\")\n",
    "ax2.set(xlabel=\"Time (minutes)\", ylabel=\"Cortisol (micrograms/dL)\")\n",
    "ax2.legend(loc=\"lower right\", shadow = True, fancybox = True)\n",
    "\n",
    "ax3.plot(yehuda.depressedCortisol[:,0], yehuda.depressedCortisol[:,1], label = \"Depression Group Cortisol\")\n",
    "ax3.plot(yehuda.depressedCortisol_smooth[:,0], yehuda.depressedCortisol_smooth[:,1], label = \"Depression Group Cortisol - Smoothed\")\n",
    "ax3.set(xlabel=\"Time (minutes)\", ylabel=\"Cortisol (micrograms/dL)\")\n",
    "ax3.legend(loc=\"lower right\", shadow = True, fancybox = True)\n"
   ]
  },
  {
   "cell_type": "code",
   "execution_count": null,
   "metadata": {},
   "outputs": [],
   "source": [
    "#mpld3.enable_notebook()\n",
    "%matplotlib inline\n",
    "\n",
    "fig, (ax1, ax2, ax3, ax4) = plt.subplots(nrows = 4, figsize = (15,15))\n",
    "\n",
    "ax1.plot(carroll.controlCortisol_rearr[:,0], carroll.controlCortisol_rearr[:,1], 'b', label = \"Control\")\n",
    "ax1.plot(carroll.HCDepressedCortisol_rearr[:,0], carroll.HCDepressedCortisol_rearr[:,1], 'r', label = \"High Cortisol Depressed\")\n",
    "ax1.plot(carroll.controlCortisol_rearr_smooth[:,0], carroll.controlCortisol_rearr_smooth[:,1], label = \"Control - Smoothed\")\n",
    "ax1.plot(carroll.HCDepressedCortisol_rearr_smooth[:,0], carroll.HCDepressedCortisol_rearr_smooth[:,1], label = \"High Cortisol Depressed - Smoothed\")\n",
    "ax1.set(xlabel=\"Time (minutes)\", ylabel=\"Cortisol (micrograms/dL)\")\n",
    "ax1.legend(loc=\"upper right\", shadow = True, fancybox = True)\n",
    "\n",
    "ax2.plot(carroll.controlCortisol_rearr[:,0], carroll.controlCortisol_rearr[:,1], 'b', label = \"Control\")\n",
    "ax2.plot(carroll.LCDepressedCortisol_rearr[:,0], carroll.LCDepressedCortisol_rearr[:,1], 'g', label = \"Low Cortisol Depressed\")\n",
    "ax2.plot(carroll.controlCortisol_rearr_smooth[:,0], carroll.controlCortisol_rearr_smooth[:,1], label = \"Control - Smoothed\")\n",
    "ax2.plot(carroll.LCDepressedCortisol_rearr_smooth[:,0], carroll.LCDepressedCortisol_rearr_smooth[:,1], label = \"Low Cortisol Depressed - Smoothed\")\n",
    "ax2.set(xlabel=\"Time (minutes)\", ylabel=\"Cortisol (micrograms/dL)\")\n",
    "ax2.legend(loc=\"upper right\", shadow = True, fancybox = True)\n",
    "\n",
    "ax3.plot(carroll.controlACTH_rearr[:,0], carroll.controlACTH_rearr[:,1], 'b', label = \"Control\")\n",
    "ax3.plot(carroll.HCDepressedACTH_rearr[:,0], carroll.HCDepressedACTH_rearr[:,1], 'r', label = \"High Cortisol Depressed\")\n",
    "ax3.plot(carroll.controlACTH_rearr_smooth[:,0], carroll.controlACTH_rearr_smooth[:,1], label = \"Control - Smoothed\")\n",
    "ax3.plot(carroll.HCDepressedACTH_rearr_smooth[:,0], carroll.HCDepressedACTH_rearr_smooth[:,1], label = \"High Cortisol Depressed - Smoothed\")\n",
    "ax3.set(xlabel=\"Time (minutes)\", ylabel=\"ACTH (pg/mL)\")\n",
    "ax3.legend(loc=\"upper right\", shadow = True, fancybox = True)\n",
    "\n",
    "ax4.plot(carroll.controlACTH_rearr[:,0], carroll.controlACTH_rearr[:,1], 'b', label = \"Control\")\n",
    "ax4.plot(carroll.LCDepressedACTH_rearr[:,0], carroll.LCDepressedACTH_rearr[:,1], 'g', label = \"Low Cortisol Depressed\")\n",
    "ax4.plot(carroll.controlACTH_rearr_smooth[:,0], carroll.controlACTH_rearr_smooth[:,1], label = \"Control - Smoothed\")\n",
    "ax4.plot(carroll.LCDepressedACTH_rearr_smooth[:,0], carroll.LCDepressedACTH_rearr_smooth[:,1], label = \"Low Cortisol Depressed - Smoothed\")\n",
    "ax4.set(xlabel=\"Time (minutes)\", ylabel=\"ACTH (pg/mL)\")\n",
    "ax4.legend(loc=\"upper right\", shadow = True, fancybox = True)"
   ]
  },
  {
   "cell_type": "code",
   "execution_count": null,
   "metadata": {},
   "outputs": [],
   "source": [
    "%matplotlib inline\n",
    "\n",
    "fig, (ax1, ax2, ax3, ax4, ax5, ax6) = plt.subplots(nrows = 6, figsize = (15,20))\n",
    "\n",
    "ax1.plot(golier.PTSDCortisol_rearr_smooth[:,0], golier.PTSDCortisol_rearr_smooth[:,1], label = \"Trauma Exposed PTSD Cortisol - Smoothed\")\n",
    "ax1.plot(golier.PTSDCortisol_rearr[:,0], golier.PTSDCortisol_rearr[:,1], label = \"Trauma Exposed PTSD Cortisol\")\n",
    "ax1.set(xlabel=\"Time (minutes)\", ylabel=\"Cortisol (mg/dL)\")\n",
    "ax1.legend(loc=\"lower right\", shadow = True, fancybox = True)\n",
    "\n",
    "ax2.plot(golier.nonPTSDTraumaExposedCortisol_rearr_smooth[:,0], golier.nonPTSDTraumaExposedCortisol_rearr_smooth[:,1], label = \"Trauma Exposed Non-PTSD Cortisol - Smoothed\")\n",
    "ax2.plot(golier.nonPTSDTraumaExposedCortisol_rearr[:,0], golier.nonPTSDTraumaExposedCortisol_rearr[:,1], label = \"Trauma Exposed Non-PTSD Cortisol\")\n",
    "ax2.set(xlabel=\"Time (minutes)\", ylabel=\"Cortisol (mg/dL)\")\n",
    "ax2.legend(loc=\"lower right\", shadow = True, fancybox = True)\n",
    "\n",
    "ax3.plot(golier.nonPTSDNonExposedCortisol_rearr_smooth[:,0], golier.nonPTSDNonExposedCortisol_rearr_smooth[:,1], label = \"Non-Exposed Non-PTSD Cortisol - Smoothed\")\n",
    "ax3.plot(golier.nonPTSDNonExposedCortisol_rearr[:,0], golier.nonPTSDNonExposedCortisol_rearr[:,1], label = \"Non-Exposed Non-PTSD Cortisol\")\n",
    "ax3.set(xlabel=\"Time (minutes)\", ylabel=\"Cortisol (mg/dL)\")\n",
    "ax3.legend(loc=\"lower right\", shadow = True, fancybox = True)\n",
    "\n",
    "ax4.plot(golier.PTSDACTH_rearr_smooth[:,0], golier.PTSDACTH_rearr_smooth[:,1], label = \"Trauma Exposed PTSD ACTH - Smoothed\")\n",
    "ax4.plot(golier.PTSDACTH_rearr[:,0], golier.PTSDACTH_rearr[:,1], label = \"Trauma Exposed PTSD ACTH\")\n",
    "ax4.set(xlabel=\"Time (minutes)\", ylabel=\"ACTH (pg/mL)\")\n",
    "ax4.legend(loc=\"lower right\", shadow = True, fancybox = True)\n",
    "\n",
    "ax5.plot(golier.nonPTSDTraumaExposedACTH_rearr_smooth[:,0], golier.nonPTSDTraumaExposedACTH_rearr_smooth[:,1], label = \"Trauma Exposed Non-PTSD ACTH - Smoothed\")\n",
    "ax5.plot(golier.nonPTSDTraumaExposedACTH_rearr[:,0], golier.nonPTSDTraumaExposedACTH_rearr[:,1], label = \"Trauma Exposed Non-PTSD ACTH\")\n",
    "ax5.set(xlabel=\"Time (minutes)\", ylabel=\"ACTH (pg/mL)\")\n",
    "ax5.legend(loc=\"lower right\", shadow = True, fancybox = True)\n",
    "\n",
    "ax6.plot(golier.nonPTSDNonExposedACTH_rearr_smooth[:,0], golier.nonPTSDNonExposedACTH_rearr_smooth[:,1], label = \"Non-Exposed Non-PTSD ACTH - Smoothed\")\n",
    "ax6.plot(golier.nonPTSDNonExposedACTH_rearr[:,0], golier.nonPTSDNonExposedACTH_rearr[:,1], label = \"Non-Exposed Non-PTSD ACTH\")\n",
    "ax6.set(xlabel=\"Time (minutes)\", ylabel=\"ACTH (pg/mL)\")\n",
    "ax6.legend(loc=\"lower right\", shadow = True, fancybox = True)\n"
   ]
  },
  {
   "cell_type": "code",
   "execution_count": null,
   "metadata": {},
   "outputs": [],
   "source": [
    "%matplotlib inline\n",
    "\n",
    "fig, (ax1, ax2, ax3) = plt.subplots(nrows = 3, figsize = (15,15))\n",
    "\n",
    "ax1.plot(bremner.abusedPTSDCortisol_rearr_smooth[:,0], bremner.abusedPTSDCortisol_rearr_smooth[:,1], label = \"Abused PTSD Cortisol - Smoothed\")\n",
    "ax1.plot(bremner.abusedPTSDCortisol_rearr[:,0], bremner.abusedPTSDCortisol_rearr[:,1], label = \"Abused PTSD Cortisol\")\n",
    "ax1.set(xlabel=\"Time (minutes)\", ylabel=\"Cortisol (microg/dL)\")\n",
    "ax1.legend(loc=\"lower right\", shadow = True, fancybox = True)\n",
    "\n",
    "ax2.plot(bremner.nonAbusedPTSDCortisol_rearr_smooth[:,0], bremner.nonAbusedPTSDCortisol_rearr_smooth[:,1], label = \"Non-Abused PTSD Cortisol - Smoothed\")\n",
    "ax2.plot(bremner.nonAbusedPTSDCortisol_rearr[:,0], bremner.nonAbusedPTSDCortisol_rearr[:,1], label = \"Non-Abused PTSD Cortisol\")\n",
    "ax2.set(xlabel=\"Time (minutes)\", ylabel=\"Cortisol (microg/dL)\")\n",
    "ax2.legend(loc=\"lower right\", shadow = True, fancybox = True)\n",
    "\n",
    "ax3.plot(bremner.nonAbusedNonPTSDCortisol_rearr_smooth[:,0], bremner.nonAbusedNonPTSDCortisol_rearr_smooth[:,1], label = \"Non-Abused Non-PTSD Cortisol - Smoothed\")\n",
    "ax3.plot(bremner.nonAbusedNonPTSDCortisol_rearr[:,0], bremner.nonAbusedNonPTSDCortisol_rearr[:,1], label = \"Non-Abused Non-PTSD Cortisol\")\n",
    "ax3.set(xlabel=\"Time (minutes)\", ylabel=\"Cortisol (microg/dL)\")\n",
    "ax3.legend(loc=\"lower left\", shadow = True, fancybox = True)\n"
   ]
  },
  {
   "cell_type": "code",
   "execution_count": null,
   "metadata": {},
   "outputs": [],
   "source": [
    "%matplotlib inline\n",
    "\n",
    "fig, (ax1, ax2) = plt.subplots(nrows = 2, figsize = (15, 15))\n",
    "\n",
    "ax1.plot(nelson.ACTH[:,0], nelson.ACTH[:,1])\n",
    "ax2.plot(nelson.cortisol[:,0], nelson.cortisol[:,1])"
   ]
  },
  {
   "cell_type": "markdown",
   "metadata": {},
   "source": [
    "[Back to Top](#top)"
   ]
  },
  {
   "cell_type": "markdown",
   "metadata": {},
   "source": [
    "## Model Function--Includes ODE Solver <a name=\"modelfunction\"></a>"
   ]
  },
  {
   "cell_type": "code",
   "execution_count": null,
   "metadata": {},
   "outputs": [],
   "source": [
    "def model(params, ics):\n",
    "    def ode_system(t, y):\n",
    "        dy = np.zeros(3)\n",
    "\n",
    "        [a_0, a_1, a_5, w_1, w_2, w_3, delta] = params\n",
    "        \n",
    "        dy[0] = a_0 + C(t, delta, alpha, beta, eps, k, l)*(a_1/(1 + a_2*y[2]**2))*(y[0]/(mu + y[0])) - w_1*y[0]\n",
    "        dy[1] = (a_3*y[0])/(1 + a_4*y[2]) - w_2*y[1]\n",
    "        dy[2] = a_5*(y[1]**2) - w_3*y[2]\n",
    "\n",
    "        return dy\n",
    "    \n",
    "    def C(t, delta, alpha, beta, eps, k, l):\n",
    "        t_m = (t - delta)%T\n",
    "        return N_c*(((t_m**k)/(t_m**k + alpha**k))*(((T - t_m)**l)/((T - t_m)**l + beta**l)) + eps)\n",
    "        \n",
    "    # Call the solve() function from my DEsolver module, and pass all of the information it needs.\n",
    "    # Arguments are as follows: ODE function to solve, array of initial conditions, start time, step size, end time\n",
    "    timeSeries = DEsolver.solve(ode_system, ics, t_start, t_step, t_end)\n",
    "    return timeSeries"
   ]
  },
  {
   "cell_type": "markdown",
   "metadata": {},
   "source": [
    "[Back to Top](#top)"
   ]
  },
  {
   "cell_type": "markdown",
   "metadata": {},
   "source": [
    "## Cost Function Definition <a name=\"cost\"></a>"
   ]
  },
  {
   "cell_type": "code",
   "execution_count": null,
   "metadata": {},
   "outputs": [],
   "source": [
    "def cost_fun(params):\n",
    "    global y0, data_to_match\n",
    "    \n",
    "    # This will optimize the initial condition for CRH. Uncomment the code block below to not optimize initial conditions\n",
    "    y0 = [params[0], y0[1], y0[2]]\n",
    "    simData = model(params[1:], y0)\n",
    "    \n",
    "    # Uncomment this and comment both lines above to not optimize initial conditions. (You'll also need to change bounds\n",
    "    #  to not have a bound defined for CRH)\n",
    "    #simData = model(params, y0)\n",
    "    \n",
    "    # To optimize ACTH as well as CRH (for use with basal data containing only cortisol concentrations), use\n",
    "    #  the following lines:\n",
    "    #y0 = [params[0], params[1], y0[2]]\n",
    "    #simData = model(params[2:], y0)\n",
    "    # Note that you'll also need to add a bound for the IC of ACTH in the list of parameter bounds\n",
    "    \n",
    "    return optimize.SSE_cost(data_to_match[0], data_to_match[1], data_to_match[2], data_to_match[3], simData)"
   ]
  },
  {
   "cell_type": "markdown",
   "metadata": {},
   "source": [
    "[Back to Top](#top)"
   ]
  },
  {
   "cell_type": "markdown",
   "metadata": {},
   "source": [
    "## Run the Optimization <a name=\"run\"></a>"
   ]
  },
  {
   "cell_type": "code",
   "execution_count": null,
   "metadata": {},
   "outputs": [],
   "source": [
    "# Define the data set to match with the parameter optimization algorithm.\n",
    "# Requires 4 indices, in the order:\n",
    "# ACTH time steps, ACTH data, Cortisol time steps, Cortisol data\n",
    "data_to_match = [nelson.ACTH[:,0], nelson.ACTH[:,1], nelson.cortisol[:,0], nelson.cortisol[:,1]]\n",
    "\n",
    "# For matching data with only cortisol concentrations, use the following line and change the data sets as desired:\n",
    "#data_to_match = [yehuda.controlCortisol[:,0], yehuda.controlCortisol[:,1]]"
   ]
  },
  {
   "cell_type": "code",
   "execution_count": null,
   "metadata": {},
   "outputs": [],
   "source": [
    "# We use the definition above to fill in the initial conditions for ACTH and cortisol\n",
    "\n",
    "y0 = [0, data_to_match[1][0], data_to_match[3][0]]\n",
    "\n",
    "# For matching data with only cortisol concentrations, use the following line and change the ICs as desired:\n",
    "#y0 = [0, 10, data_to_match[1][0]]"
   ]
  },
  {
   "cell_type": "code",
   "execution_count": null,
   "metadata": {},
   "outputs": [],
   "source": [
    "opt_pars, simData_all = optimize.run(cost_fun, model, data_to_match, y0, bounds, ICopt_indices=[0], num_iter=5)"
   ]
  },
  {
   "cell_type": "markdown",
   "metadata": {},
   "source": [
    "[Back to Top](#top)"
   ]
  },
  {
   "cell_type": "markdown",
   "metadata": {},
   "source": [
    "## Save Output to File <a name=\"saveoutput\"></a>"
   ]
  },
  {
   "cell_type": "code",
   "execution_count": null,
   "metadata": {},
   "outputs": [],
   "source": [
    "# Change the root filename, this will have the array name appended to it\n",
    "#  to make the filename of the Excel files\n",
    "filename_root = \"bangsgaardModel_output/nelson-patientMean-5-iterations-ICopt\"\n"
   ]
  },
  {
   "cell_type": "code",
   "execution_count": null,
   "metadata": {},
   "outputs": [],
   "source": [
    "# Create the pandas DataFrame object for opt_pars\n",
    "# I've typed out each individual heading for the parameter names that were\n",
    "#  optimized, and assigned the correct column of opt_pars to them\n",
    "df_opt_pars = pd.DataFrame(opt_pars, columns=['Cost',\n",
    "                                              'a_0',\n",
    "                                              'a_1',\n",
    "                                              'a_5',\n",
    "                                              'w_1',\n",
    "                                              'w_2',\n",
    "                                              'w_3',\n",
    "                                              'delta'])\n",
    "\n",
    "# Create the pandas DataFrame object for opt_pars\n",
    "# I've typed out each individual heading for the variables and iterations,\n",
    "# and assigned the correct column of simData_all to them\n",
    "df_simData_all = pd.DataFrame(simData_all, columns=['Iteration 1 Time',\n",
    "                                                    'Iteration 1 CRH',\n",
    "                                                    'Iteration 1 ACTH',\n",
    "                                                    'Iteration 1 Cortisol',\n",
    "                                                    'Iteration 2 Time',\n",
    "                                                    'Iteration 2 CRH',\n",
    "                                                    'Iteration 2 ACTH',\n",
    "                                                    'Iteration 2 Cortisol',\n",
    "                                                    'Iteration 3 Time',\n",
    "                                                    'Iteration 3 CRH',\n",
    "                                                    'Iteration 3 ACTH',\n",
    "                                                    'Iteration 3 Cortisol',\n",
    "                                                    'Iteration 4 Time',\n",
    "                                                    'Iteration 4 CRH',\n",
    "                                                    'Iteration 4 ACTH',\n",
    "                                                    'Iteration 4 Cortisol',\n",
    "                                                    'Iteration 5 Time',\n",
    "                                                    'Iteration 5 CRH',\n",
    "                                                    'Iteration 5 ACTH',\n",
    "                                                    'Iteration 5 Cortisol'])\n",
    "\n",
    "# Create an instance of the ExcelWriter class and open the file using a with statement\n",
    "with pd.ExcelWriter(filename_root+\".xlsx\") as writer:\n",
    "    # Define the header format, so that it's bold, text is wrapped, it has a \n",
    "    #  colored background and a border\n",
    "    header_format = writer.book.add_format({\n",
    "        'bold': True,\n",
    "        'text_wrap': True,\n",
    "        'valign': 'top',\n",
    "        'fg_color': '#D7E4BC',\n",
    "        'border': 1\n",
    "    })\n",
    "    \n",
    "    # Write the opt_pars array to a sheet in the file, we skip adding in the headers here and add them with the above\n",
    "    #  format afterwards. We also change the row index to start at 1, rather than 0.\n",
    "    df_opt_pars.index = list(range(1,len(opt_pars[:,0])+1))\n",
    "    df_opt_pars.to_excel(writer, sheet_name=\"Optimized Parameters\", startrow=1, header=False)\n",
    "    \n",
    "    # Write the simData_all array to another sheet in the file, we skip adding in the headers here and add them with the above\n",
    "    #  format afterwards. We also disable the row index numbers, as they are not necessary here.\n",
    "    df_simData_all.to_excel(writer, sheet_name=\"Simulated Concentration Data\", startrow=1, header=False, index=False)\n",
    "    \n",
    "    # Loop through each header in opt_pars DataFrame and write to the sheet with formatting\n",
    "    for col,val in enumerate(df_opt_pars.columns.values):\n",
    "        # We write in the sheet \"Optimized Parameters\" in the first row, starting with the second column \n",
    "        #  (because of the row indices), using the headers from the DataFrame and the header format we defined above\n",
    "        writer.sheets[\"Optimized Parameters\"].write(0, col+1, val, header_format)\n",
    "    \n",
    "    # Loop through each header in simData_all DataFrame and write to the sheet with formatting\n",
    "    for col,val in enumerate(df_simData_all.columns.values):\n",
    "        # We write in the sheet \"Simulated Concentration Data\" in the first row, starting with the first column \n",
    "        #  (because we turned off the row indices), using the headers from the DataFrame and \n",
    "        #  the header format we defined above\n",
    "        writer.sheets[\"Simulated Concentration Data\"].write(0, col, val, header_format)\n",
    "    "
   ]
  },
  {
   "cell_type": "code",
   "execution_count": null,
   "metadata": {},
   "outputs": [],
   "source": [
    "# Save the initial conditions and bounds to text files, also.\n",
    "np.savetxt(filename_root+'-initial-conditions.txt', y0)\n",
    "np.savetxt(filename_root+'-bounds.txt', bounds)\n"
   ]
  },
  {
   "cell_type": "markdown",
   "metadata": {},
   "source": [
    "[Back to Top](#top)"
   ]
  },
  {
   "cell_type": "markdown",
   "metadata": {},
   "source": [
    "## Compute Means and Std Devations of Parameters and Output as Table <a name=\"paramtable\"></a>"
   ]
  },
  {
   "cell_type": "code",
   "execution_count": null,
   "metadata": {},
   "outputs": [],
   "source": [
    "#a_0_mean = np.mean(opt_pars[:,1])\n",
    "#a_0_std = np.std(opt_pars[:,1])\n",
    "#a_1_mean = np.mean(opt_pars[:,2])\n",
    "#a_1_std = np.std(opt_pars[:,2])\n",
    "#a_2_mean = np.mean(opt_pars[:,3])\n",
    "#a_2_std = np.std(opt_pars[:,3])\n",
    "#a_3_mean = np.mean(opt_pars[:,4])\n",
    "#a_3_std = np.std(opt_pars[:,4])\n",
    "#a_4_mean = np.mean(opt_pars[:,5])\n",
    "#a_4_std = np.std(opt_pars[:,5])\n",
    "#a_5_mean = np.mean(opt_pars[:,6])\n",
    "#a_5_std = np.std(opt_pars[:,6])\n",
    "#mu_mean = np.mean(opt_pars[:,7])\n",
    "#mu_std = np.std(opt_pars[:,7])\n",
    "#w_1_mean = np.mean(opt_pars[:,8])\n",
    "#w_1_std = np.std(opt_pars[:,8])\n",
    "#w_2_mean = np.mean(opt_pars[:,9])\n",
    "#w_2_std = np.std(opt_pars[:,9])\n",
    "#w_3_mean = np.mean(opt_pars[:,10])\n",
    "#w_3_std = np.std(opt_pars[:,10])\n",
    "#delta_mean = np.mean(opt_pars[:,11])\n",
    "#delta_std = np.std(opt_pars[:,11])\n",
    "#alpha_mean = np.mean(opt_pars[:,12])\n",
    "#alpha_std = np.std(opt_pars[:,12])\n",
    "#k_mean = np.mean(opt_pars[:,13])\n",
    "#k_std = np.std(opt_pars[:,13])\n",
    "#beta_mean = np.mean(opt_pars[:,14])\n",
    "#beta_std = np.std(opt_pars[:,14])\n",
    "#l_mean = np.mean(opt_pars[:,15])\n",
    "#l_std = np.std(opt_pars[:,15])\n",
    "#eps_mean = np.mean(opt_pars[:,16])\n",
    "#eps_std = np.std(opt_pars[:,16])\n",
    "#N_c_mean = np.mean(opt_pars[:,17])\n",
    "#N_c_std = np.std(opt_pars[:,17])"
   ]
  },
  {
   "cell_type": "code",
   "execution_count": null,
   "metadata": {},
   "outputs": [],
   "source": [
    "#print(tabulate([[\"a_0\", \"%f +- %f\" % (a_0_mean, a_0_std)], [\"a_1\", \"%f +- %f\" % (a_1_mean, a_1_std)], [\"a_2\", \"%f +- %f\" % (a_2_mean, a_2_std)], [\"a_3\", \"%f +- %f\" % (a_3_mean, a_3_std)], [\"a_4\", \"%f +- %f\" % (a_4_mean, a_4_std)], [\"a_5\", \"%f +- %f\" % (a_5_mean, a_5_std)], [\"mu\", \"%f +- %f\" % (mu_mean, mu_std)], [\"w_1\", \"%f +- %f\" % (w_1_mean, w_1_std)], [\"w_2\", \"%f +- %f\" % (w_2_mean, w_2_std)], [\"w_3\", \"%f +- %f\" % (w_3_mean, w_3_std)], [\"delta\", \"%f +- %f\" % (delta_mean, delta_std)], [\"alpha\", \"%f +- %f\" % (alpha_mean, alpha_std)], [\"k\", \"%f +- %f\" % (k_mean, k_std)], [\"beta\", \"%f +- %f\" % (beta_mean, beta_std)], [\"l\", \"%f +- %f\" % (l_mean, l_std)], [\"eps\", \"%f +- %f\" % (eps_mean, eps_std)], [\"N_c\", \"%f +- %f\" % (N_c_mean, N_c_std)]], headers = [\"Parameter\", \"Mean +- Standard Deviation\"]))\n"
   ]
  },
  {
   "cell_type": "code",
   "execution_count": null,
   "metadata": {},
   "outputs": [],
   "source": [
    "#np.savetxt('bangsgaardModel_output/bangsgaardModel-nelson-patientMean-param-means-stds-5-iterations-expanded-bounds.txt', [a_0_mean, a_0_std, a_1_mean, a_1_std, a_2_mean, a_2_std, a_3_mean, a_3_std, a_4_mean, a_4_std, a_5_mean, a_5_std, mu_mean, mu_std, w_1_mean, w_1_std, w_2_mean, w_2_std, w_3_mean, w_3_std, delta_mean, delta_std, alpha_mean, alpha_std, k_mean, k_std, beta_mean, beta_std, l_mean, l_std, eps_mean, eps_std, N_c_mean, N_c_std])"
   ]
  },
  {
   "cell_type": "code",
   "execution_count": null,
   "metadata": {},
   "outputs": [],
   "source": [
    "# Compute the mean values of the optimized parameters\n",
    "a_0_mean = np.mean(opt_pars[:,1])\n",
    "a_1_mean = np.mean(opt_pars[:,2])\n",
    "a_5_mean = np.mean(opt_pars[:,3])\n",
    "w_1_mean = np.mean(opt_pars[:,4])\n",
    "w_2_mean = np.mean(opt_pars[:,5])\n",
    "w_3_mean = np.mean(opt_pars[:,6])\n",
    "delta_mean = np.mean(opt_pars[:,7])"
   ]
  },
  {
   "cell_type": "code",
   "execution_count": null,
   "metadata": {},
   "outputs": [],
   "source": [
    "# Compute the standard deviations of the optimized parameters\n",
    "a_0_std = np.std(opt_pars[:,1])\n",
    "a_1_std = np.std(opt_pars[:,2])\n",
    "a_5_std = np.std(opt_pars[:,3])\n",
    "w_1_std = np.std(opt_pars[:,4])\n",
    "w_2_std = np.std(opt_pars[:,5])\n",
    "w_3_std = np.std(opt_pars[:,6])\n",
    "delta_std = np.std(opt_pars[:,7])\n",
    "param_stds = (a_0_std, a_1_std, a_5_std, w_1_std, w_2_std, w_3_std, delta_std)"
   ]
  },
  {
   "cell_type": "code",
   "execution_count": null,
   "metadata": {},
   "outputs": [],
   "source": [
    "# Put the optimized parameters in a table, showing mean +- standard deviation\n",
    "print(tabulate([[\"a_0\", \"%f +- %f\" % (a_0_mean, a_0_std)], [\"a_1\", \"%f +- %f\" % (a_1_mean, a_1_std)], [\"a_5\", \"%f +- %f\" % (a_5_mean, a_5_std)], [\"w_1\", \"%f +- %f\" % (w_1_mean, w_1_std)], [\"w_2\", \"%f +- %f\" % (w_2_mean, w_2_std)], [\"w_3\", \"%f +- %f\" % (w_3_mean, w_3_std)], [\"delta\", \"%f +- %f\" % (delta_mean, delta_std)]], headers = [\"Parameter\", \"Mean +- Standard Deviation\"]))\n"
   ]
  },
  {
   "cell_type": "code",
   "execution_count": null,
   "metadata": {},
   "outputs": [],
   "source": [
    "# Save the optimized parameter means and standard deviations to a text file\n",
    "np.savetxt(filename_root+'-param-means-and-std-devs.txt', [a_0_mean, a_0_std, a_1_mean, a_1_std, a_5_mean, a_5_std, w_1_mean, w_1_std, w_2_mean, w_2_std, w_3_mean, w_3_std, delta_mean, delta_std])\n"
   ]
  },
  {
   "cell_type": "markdown",
   "metadata": {},
   "source": [
    "[Back to Top](#top)"
   ]
  },
  {
   "cell_type": "markdown",
   "metadata": {},
   "source": [
    "## Plots <a name=\"plots\"></a>"
   ]
  },
  {
   "cell_type": "code",
   "execution_count": null,
   "metadata": {
    "scrolled": true
   },
   "outputs": [],
   "source": [
    "grapher = Visualizer(globals())"
   ]
  },
  {
   "cell_type": "code",
   "execution_count": null,
   "metadata": {
    "scrolled": false
   },
   "outputs": [],
   "source": [
    "grapher.make_graphs(std_dev = True,\n",
    "                    sims_line_labels=[\"Simulated CRH\", \"Simulated ACTH\", \"Simulated Cortisol\"], \n",
    "                    graph_titles = [\"CRH Concentration\", \"ACTH Concentration\", \"Cortisol Concentration\"], \n",
    "                    real_data_labels = [\"\", \"Nelson ACTH - Patient Mean\", \"Nelson Cortisol - Patient Mean\"], \n",
    "                    xaxis_labels = [\"Time (min)\", \"Time (min)\", \"Time (min)\"], \n",
    "                    yaxis_labels = [\"CRH (micrograms/dL)\", \"ACTH (pg/mL)\", \"Cortisol (micrograms/dL)\"],\n",
    "                    savefile = filename_root+'.png')\n"
   ]
  },
  {
   "cell_type": "markdown",
   "metadata": {},
   "source": [
    "[Back to Top](#top)"
   ]
  },
  {
   "cell_type": "markdown",
   "metadata": {},
   "source": [
    "## No Optimization Run <a name=\"no-opt\"></a>"
   ]
  },
  {
   "cell_type": "code",
   "execution_count": null,
   "metadata": {},
   "outputs": [],
   "source": [
    "y0 = [5, nelson.ACTH[0,41], nelson.cortisol[0,41]]"
   ]
  },
  {
   "cell_type": "code",
   "execution_count": null,
   "metadata": {},
   "outputs": [],
   "source": [
    "%%time\n",
    "\n",
    "data_no_opt = model(authors_params, y0)"
   ]
  },
  {
   "cell_type": "code",
   "execution_count": null,
   "metadata": {},
   "outputs": [],
   "source": [
    "df_noOpt = pd.DataFrame(data_no_opt, columns=['Time',\n",
    "                                              'CRH',\n",
    "                                              'ACTH',\n",
    "                                              'Cortisol'])\n",
    "\n",
    "with pd.ExcelWriter(\"bangsgaardModel_output/no-optimization-run.xlsx\") as writer:\n",
    "    df_noOpt.to_excel(writer, sheet_name=\"No Optimization Run 1\", index=False)"
   ]
  },
  {
   "cell_type": "markdown",
   "metadata": {},
   "source": [
    "[Back to Top](#top)"
   ]
  },
  {
   "cell_type": "markdown",
   "metadata": {},
   "source": [
    "## No Optimization Run--Iterate Over Multiple CRH Initial Conditions <a name=\"multipleCRH\"></a>"
   ]
  },
  {
   "cell_type": "code",
   "execution_count": null,
   "metadata": {},
   "outputs": [],
   "source": [
    "# loop through initial conditions for CRH to see how the graph changes\n",
    "CRH_vals = np.arange(0, 50, 0.1)\n",
    "IC_array = np.zeros((len(CRH_vals), 3))\n",
    "\n",
    "for index, item in enumerate(CRH_vals):\n",
    "    IC_array[index, 0] = item\n",
    "    IC_array[index, 1] = 8.725314\n",
    "    IC_array[index, 2] = 1.158798"
   ]
  },
  {
   "cell_type": "code",
   "execution_count": null,
   "metadata": {},
   "outputs": [],
   "source": [
    "# Create an empty array to hold the concentration data from the model simulations\n",
    "no_opt = np.zeros((len(CRH_vals), 144003, 4))"
   ]
  },
  {
   "cell_type": "code",
   "execution_count": null,
   "metadata": {},
   "outputs": [],
   "source": [
    "# Iterate through the initial conditions and run the model for each set\n",
    "for index, item in enumerate(IC_array):\n",
    "    print(\"Run #\", index)\n",
    "    no_opt[index, :, :] = model(authors_params, item)"
   ]
  },
  {
   "cell_type": "code",
   "execution_count": null,
   "metadata": {},
   "outputs": [],
   "source": [
    "# Create labels for the graphs that show the initial conditions used\n",
    "CRH_labels = []\n",
    "ACTH_labels = []\n",
    "Cortisol_labels = []\n",
    "\n",
    "for index, item in enumerate(IC_array):\n",
    "    CRH_labels.append(\"CRH Simulation #\" + str(index) + \": CRH = \" + str(item[0]))\n",
    "    ACTH_labels.append(\"ACTH Simulation #\" + str(index) + \": ACTH = \" + str(item[1]))                  \n",
    "    Cortisol_labels.append(\"Cortisol Simulation #\" + str(index) + \": Cortisol = \" + str(item[2]))"
   ]
  },
  {
   "cell_type": "code",
   "execution_count": null,
   "metadata": {},
   "outputs": [],
   "source": [
    "%matplotlib inline\n",
    "\n",
    "# plot the simulations together to see how increasing initial CRH value\n",
    "# changes behavior\n",
    "\n",
    "fig, (ax1, ax2, ax3) = plt.subplots(nrows = 3, figsize = (15, 15))\n",
    "\n",
    "for index, item in enumerate(no_opt):\n",
    "    ax1.plot(item[:,0], item[:,1], label = CRH_labels[index])\n",
    "    ax2.plot(item[:,0], item[:,2], label = ACTH_labels[index])\n",
    "    ax3.plot(item[:,0], item[:,3], label = Cortisol_labels[index])\n",
    "\n",
    "ax1.set(xlabel = \"Time (min)\", ylabel = \"CRH (pg/mL)\")\n",
    "ax1.legend(loc=\"upper right\", shadow = True, fancybox = True)\n",
    "\n",
    "ax2.plot(patientF.ACTH[:,0], patientF.ACTH_smooth[:,1], 'm', label = \"Patient F ACTH - Smoothed\")\n",
    "ax2.set(xlabel = \"Time (min)\", ylabel = \"ACTH (pg/mL)\")\n",
    "ax2.legend(loc=\"upper right\", shadow = True, fancybox = True)\n",
    "\n",
    "ax3.plot(patientF.cortisol[:,0], patientF.cortisol_smooth[:,1], 'm', label = \"Patient F Cortisol - Smoothed\")\n",
    "ax3.set(xlabel = \"Time (min)\", ylabel = \"Cortisol (micrograms/mL)\")\n",
    "ax3.legend(loc=\"upper right\", shadow = True, fancybox = True)"
   ]
  },
  {
   "cell_type": "markdown",
   "metadata": {},
   "source": [
    "[Back to Top](#top)"
   ]
  },
  {
   "cell_type": "markdown",
   "metadata": {},
   "source": [
    "## Dependencies <a name=\"dependencies\"></a>"
   ]
  },
  {
   "cell_type": "code",
   "execution_count": null,
   "metadata": {},
   "outputs": [],
   "source": [
    "%load_ext watermark"
   ]
  },
  {
   "cell_type": "code",
   "execution_count": null,
   "metadata": {},
   "outputs": [],
   "source": [
    "%watermark --iversions"
   ]
  },
  {
   "cell_type": "markdown",
   "metadata": {},
   "source": [
    "[Back to Top](#top)"
   ]
  }
 ],
 "metadata": {
  "kernelspec": {
   "display_name": "Python 3",
   "language": "python",
   "name": "python3"
  },
  "language_info": {
   "codemirror_mode": {
    "name": "ipython",
    "version": 3
   },
   "file_extension": ".py",
   "mimetype": "text/x-python",
   "name": "python",
   "nbconvert_exporter": "python",
   "pygments_lexer": "ipython3",
   "version": "3.7.7"
  }
 },
 "nbformat": 4,
 "nbformat_minor": 2
}
