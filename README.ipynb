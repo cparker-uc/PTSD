{
 "cells": [
  {
   "cell_type": "markdown",
   "id": "d6c61438",
   "metadata": {},
   "source": [
    "#  Instructions for Use of Models"
   ]
  },
  {
   "cell_type": "markdown",
   "id": "e4d9eac6",
   "metadata": {},
   "source": [
    "## Table of Contents\n",
    "1. [Binder Setup](#binderSetup)\n",
    "2. [Model Selection](#modelSelection)\n",
    "3. [General Instructions](#generalInstructions)\n",
    "4. [Requirements to Run Models Locally](#localRequirements)"
   ]
  },
  {
   "cell_type": "markdown",
   "id": "05539a53",
   "metadata": {},
   "source": [
    "## Binder Setup <a name=\"binderSetup\"/>\n",
    "https://mybinder.org/v2/gh/cparker-uc/PTSD/HEAD"
   ]
  },
  {
   "cell_type": "markdown",
   "id": "a3d0c18c",
   "metadata": {},
   "source": [
    "## Model Selection <a name=\"modelSelection\" />"
   ]
  },
  {
   "cell_type": "markdown",
   "id": "5657ee77",
   "metadata": {},
   "source": [
    "## General Instructions <a name=\"generalInstructions\" />"
   ]
  },
  {
   "cell_type": "markdown",
   "id": "7e55a737",
   "metadata": {},
   "source": [
    "## Requirements to Run Models Locally <a name=\"localRequirements\" />"
   ]
  }
 ],
 "metadata": {
  "kernelspec": {
   "display_name": "Python 3",
   "language": "python",
   "name": "python3"
  },
  "language_info": {
   "codemirror_mode": {
    "name": "ipython",
    "version": 3
   },
   "file_extension": ".py",
   "mimetype": "text/x-python",
   "name": "python",
   "nbconvert_exporter": "python",
   "pygments_lexer": "ipython3",
   "version": "3.7.7"
  }
 },
 "nbformat": 4,
 "nbformat_minor": 5
}
