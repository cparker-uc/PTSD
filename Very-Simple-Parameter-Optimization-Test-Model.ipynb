{
 "cells": [
  {
   "cell_type": "markdown",
   "metadata": {},
   "source": [
    "# Very Simple ODE Model to Test Parameter Optimization"
   ]
  },
  {
   "cell_type": "code",
   "execution_count": 2,
   "metadata": {},
   "outputs": [],
   "source": [
    "import numpy as np\n",
    "import scipy.integrate as sci\n",
    "import matplotlib.pyplot as plt\n",
    "import mpld3\n",
    "from scipy.interpolate import interp1d\n",
    "import scipy.optimize as sco\n",
    "from tabulate import tabulate\n",
    "from decimal import Decimal"
   ]
  },
  {
   "cell_type": "markdown",
   "metadata": {},
   "source": [
    "## Parameters and Initial Conditions"
   ]
  },
  {
   "cell_type": "code",
   "execution_count": 5,
   "metadata": {},
   "outputs": [],
   "source": [
    "# Initial condition array\n",
    "\n",
    "y0 = [0]"
   ]
  },
  {
   "cell_type": "code",
   "execution_count": 6,
   "metadata": {},
   "outputs": [],
   "source": [
    "# optimal parameter values to get the parabola that I'm going to sample data points from\n",
    "alpha = 1\n",
    "beta = 0\n",
    "delta = 0"
   ]
  },
  {
   "cell_type": "code",
   "execution_count": 7,
   "metadata": {},
   "outputs": [],
   "source": [
    "# bounds for the parameters\n",
    "\n",
    "bounds = ([0.,5.], [0.,5.])"
   ]
  },
  {
   "cell_type": "code",
   "execution_count": 14,
   "metadata": {},
   "outputs": [],
   "source": [
    "# time steps to use in integration\n",
    "\n",
    "timeLength = (0,10)\n",
    "\n",
    "t_start = -0.01\n",
    "t_end = 10\n",
    "t_step = 0.01"
   ]
  },
  {
   "cell_type": "markdown",
   "metadata": {},
   "source": [
    "## Pull the Data Points Sampled from Desired Parabola from File into Array"
   ]
  },
  {
   "cell_type": "code",
   "execution_count": 13,
   "metadata": {},
   "outputs": [],
   "source": [
    "rawData = np.genfromtxt('parabola-points.txt')"
   ]
  },
  {
   "cell_type": "code",
   "execution_count": 4,
   "metadata": {
    "scrolled": true
   },
   "outputs": [
    {
     "name": "stdout",
     "output_type": "stream",
     "text": [
      "[[0.00000000e+00 1.00000000e+00]\n",
      " [5.00000000e-01 1.64872127e+00]\n",
      " [1.00000000e+00 2.71828183e+00]\n",
      " [1.50000000e+00 4.48168907e+00]\n",
      " [2.00000000e+00 7.38905610e+00]\n",
      " [2.50000000e+00 1.21824940e+01]\n",
      " [3.00000000e+00 2.00855369e+01]\n",
      " [3.50000000e+00 3.31154520e+01]\n",
      " [4.00000000e+00 5.45981500e+01]\n",
      " [4.50000000e+00 9.00171313e+01]\n",
      " [5.00000000e+00 1.48413159e+02]\n",
      " [5.50000000e+00 2.44691932e+02]\n",
      " [6.00000000e+00 4.03428793e+02]\n",
      " [6.50000000e+00 6.65141633e+02]\n",
      " [7.00000000e+00 1.09663316e+03]\n",
      " [7.50000000e+00 1.80804241e+03]\n",
      " [8.00000000e+00 2.98095799e+03]\n",
      " [8.50000000e+00 4.91476884e+03]\n",
      " [9.00000000e+00 8.10308393e+03]\n",
      " [9.50000000e+00 1.33597268e+04]\n",
      " [1.00000000e+01 2.20264658e+04]]\n"
     ]
    }
   ],
   "source": [
    "print(rawData)"
   ]
  },
  {
   "cell_type": "code",
   "execution_count": 3,
   "metadata": {},
   "outputs": [],
   "source": [
    "rawData = np.genfromtxt('exp-points.txt')"
   ]
  },
  {
   "cell_type": "markdown",
   "metadata": {},
   "source": [
    "## Model Function -- Includes ODE Solver"
   ]
  },
  {
   "cell_type": "code",
   "execution_count": 9,
   "metadata": {},
   "outputs": [],
   "source": [
    "def model(params, ics, t):\n",
    "    \n",
    "    # function that constitutes the ODE model\n",
    "    def ode_system(t, y):\n",
    "        \n",
    "        dy = np.zeros(1)\n",
    "        [alpha, beta] = params\n",
    "        \n",
    "        dy[0] = alpha*y[0] + beta\n",
    "        \n",
    "        return dy\n",
    "    \n",
    "    # solve the system with scipy.integrate.ode to see if it's any faster\n",
    "    solver = sci.ode(ode_system)\n",
    "    solver.set_integrator('lsoda')\n",
    "    solver.set_initial_value(ics, t_start)\n",
    "    \n",
    "    ts = []\n",
    "    ys = []\n",
    "    \n",
    "    while solver.successful() and solver.t < t_end:\n",
    "        solver.integrate(solver.t + t_step)\n",
    "        ts.append(solver.t)\n",
    "        ys.append(solver.y)\n",
    "    \n",
    "    # reshape the output frome ode to an array with the times on the first column\n",
    "    ts = np.reshape(ts, (len(ts),1))\n",
    "    ys = np.vstack(ys)\n",
    "    timeSeries = np.hstack((ts, ys))\n",
    "    return timeSeries"
   ]
  },
  {
   "cell_type": "markdown",
   "metadata": {},
   "source": [
    "## Cost Function"
   ]
  },
  {
   "cell_type": "code",
   "execution_count": 24,
   "metadata": {},
   "outputs": [],
   "source": [
    "def cost_fun(params):\n",
    "    simData = model(params, y0, timeLength)\n",
    "    \n",
    "    spline = interp1d(simData[:,0], simData[:,1], kind = 'quadratic')\n",
    "    \n",
    "    cost = np.sum((spline(raw[0]) - raw[1])**2)\n",
    "    \n",
    "    return cost"
   ]
  },
  {
   "cell_type": "markdown",
   "metadata": {},
   "source": [
    "## Run the Optimization"
   ]
  },
  {
   "cell_type": "code",
   "execution_count": 25,
   "metadata": {},
   "outputs": [],
   "source": [
    "# number of times to run the optimization\n",
    "n = 1\n",
    "\n",
    "# define an array to hold the population of parameter vectors\n",
    "opt_pars = np.zeros((n, len(bounds)+1))\n",
    "\n",
    "# initialize array to save simulation data points\n",
    "sims = np.zeros((1002,n))"
   ]
  },
  {
   "cell_type": "code",
   "execution_count": 26,
   "metadata": {},
   "outputs": [
    {
     "name": "stdout",
     "output_type": "stream",
     "text": [
      "Optimization Run #1\n",
      "differential_evolution step 1: f(x)= 1.58217e-06\n",
      "differential_evolution step 2: f(x)= 9.1084e-07\n",
      "differential_evolution step 3: f(x)= 4.05321e-07\n",
      "differential_evolution step 4: f(x)= 1.34295e-07\n",
      "differential_evolution step 5: f(x)= 1.34295e-07\n",
      "differential_evolution step 6: f(x)= 1.02348e-07\n",
      "differential_evolution step 7: f(x)= 6.53912e-09\n",
      "differential_evolution step 8: f(x)= 6.53912e-09\n",
      "differential_evolution step 9: f(x)= 4.37583e-10\n",
      "differential_evolution step 10: f(x)= 2.2248e-10\n",
      "differential_evolution step 11: f(x)= 2.2248e-10\n",
      "differential_evolution step 12: f(x)= 2.2248e-10\n",
      "differential_evolution step 13: f(x)= 2.2248e-10\n",
      "differential_evolution step 14: f(x)= 1.06431e-10\n",
      "differential_evolution step 15: f(x)= 3.04851e-12\n",
      "differential_evolution step 16: f(x)= 3.04851e-12\n",
      "differential_evolution step 17: f(x)= 3.04851e-12\n",
      "differential_evolution step 18: f(x)= 1.98518e-13\n",
      "differential_evolution step 19: f(x)= 1.35427e-13\n",
      "differential_evolution step 20: f(x)= 1.35427e-13\n",
      "differential_evolution step 21: f(x)= 1.15412e-13\n",
      "differential_evolution step 22: f(x)= 1.15412e-13\n",
      "differential_evolution step 23: f(x)= 1.15412e-13\n",
      "differential_evolution step 24: f(x)= 1.15412e-13\n",
      "differential_evolution step 25: f(x)= 1.00983e-13\n",
      "differential_evolution step 26: f(x)= 2.39286e-14\n",
      "differential_evolution step 27: f(x)= 4.38272e-15\n",
      "differential_evolution step 28: f(x)= 4.38272e-15\n",
      "differential_evolution step 29: f(x)= 5.66097e-17\n",
      "differential_evolution step 30: f(x)= 5.66097e-17\n",
      "differential_evolution step 31: f(x)= 5.66097e-17\n",
      "differential_evolution step 32: f(x)= 5.66097e-17\n",
      "differential_evolution step 33: f(x)= 5.66097e-17\n",
      "differential_evolution step 34: f(x)= 5.66097e-17\n",
      "differential_evolution step 35: f(x)= 5.66097e-17\n",
      "differential_evolution step 36: f(x)= 4.12965e-17\n",
      "differential_evolution step 37: f(x)= 6.22248e-18\n",
      "differential_evolution step 38: f(x)= 1.50594e-18\n",
      "differential_evolution step 39: f(x)= 1.40616e-18\n",
      "differential_evolution step 40: f(x)= 1.40386e-18\n",
      "differential_evolution step 41: f(x)= 1.29628e-18\n",
      "differential_evolution step 42: f(x)= 1.19591e-18\n",
      "differential_evolution step 43: f(x)= 3.36944e-19\n",
      "differential_evolution step 44: f(x)= 1.53232e-21\n",
      "differential_evolution step 45: f(x)= 1.53232e-21\n",
      "differential_evolution step 46: f(x)= 1.53232e-21\n",
      "differential_evolution step 47: f(x)= 1.53232e-21\n",
      "differential_evolution step 48: f(x)= 1.53232e-21\n",
      "differential_evolution step 49: f(x)= 1.53232e-21\n",
      "differential_evolution step 50: f(x)= 1.53232e-21\n",
      "differential_evolution step 51: f(x)= 1.53232e-21\n",
      "differential_evolution step 52: f(x)= 1.53232e-21\n",
      "differential_evolution step 53: f(x)= 1.53232e-21\n",
      "differential_evolution step 54: f(x)= 1.53232e-21\n",
      "differential_evolution step 55: f(x)= 1.53232e-21\n",
      "differential_evolution step 56: f(x)= 1.53232e-21\n",
      "differential_evolution step 57: f(x)= 1.78897e-22\n",
      "differential_evolution step 58: f(x)= 1.44913e-22\n",
      "differential_evolution step 59: f(x)= 3.73771e-23\n",
      "differential_evolution step 60: f(x)= 3.73771e-23\n",
      "differential_evolution step 61: f(x)= 3.73771e-23\n",
      "differential_evolution step 62: f(x)= 3.73771e-23\n",
      "differential_evolution step 63: f(x)= 2.91369e-23\n",
      "differential_evolution step 64: f(x)= 1.54524e-24\n",
      "differential_evolution step 65: f(x)= 1.54524e-24\n",
      "differential_evolution step 66: f(x)= 1.54524e-24\n",
      "differential_evolution step 67: f(x)= 1.54524e-24\n",
      "differential_evolution step 68: f(x)= 7.8942e-25\n",
      "differential_evolution step 69: f(x)= 3.71855e-25\n",
      "differential_evolution step 70: f(x)= 5.24469e-26\n",
      "differential_evolution step 71: f(x)= 5.24469e-26\n",
      "differential_evolution step 72: f(x)= 4.11495e-26\n",
      "differential_evolution step 73: f(x)= 4.11495e-26\n",
      "differential_evolution step 74: f(x)= 2.64357e-26\n",
      "differential_evolution step 75: f(x)= 1.62863e-26\n",
      "differential_evolution step 76: f(x)= 3.05646e-27\n",
      "differential_evolution step 77: f(x)= 3.05646e-27\n",
      "differential_evolution step 78: f(x)= 1.72323e-27\n",
      "differential_evolution step 79: f(x)= 1.72323e-27\n",
      "differential_evolution step 80: f(x)= 4.14396e-28\n",
      "differential_evolution step 81: f(x)= 2.10186e-28\n",
      "differential_evolution step 82: f(x)= 1.27958e-28\n",
      "differential_evolution step 83: f(x)= 3.58301e-29\n",
      "differential_evolution step 84: f(x)= 3.30457e-29\n",
      "differential_evolution step 85: f(x)= 1.12047e-29\n",
      "differential_evolution step 86: f(x)= 5.55115e-30\n",
      "differential_evolution step 87: f(x)= 2.51879e-30\n",
      "differential_evolution step 88: f(x)= 2.51879e-30\n",
      "differential_evolution step 89: f(x)= 1.74994e-30\n",
      "differential_evolution step 90: f(x)= 1.74994e-30\n",
      "differential_evolution step 91: f(x)= 1.74994e-30\n",
      "differential_evolution step 92: f(x)= 2.47894e-31\n",
      "differential_evolution step 93: f(x)= 2.47894e-31\n",
      "differential_evolution step 94: f(x)= 2.47894e-31\n",
      "differential_evolution step 95: f(x)= 2.47894e-31\n",
      "differential_evolution step 96: f(x)= 2.47894e-31\n",
      "differential_evolution step 97: f(x)= 8.94504e-32\n",
      "differential_evolution step 98: f(x)= 4.96679e-32\n",
      "differential_evolution step 99: f(x)= 4.96679e-32\n",
      "differential_evolution step 100: f(x)= 2.33158e-32\n",
      "differential_evolution step 101: f(x)= 2.33158e-32\n",
      "differential_evolution step 102: f(x)= 2.33158e-32\n",
      "differential_evolution step 103: f(x)= 1.10771e-32\n",
      "differential_evolution step 104: f(x)= 1.10771e-32\n",
      "differential_evolution step 105: f(x)= 5.31135e-33\n",
      "differential_evolution step 106: f(x)= 5.31135e-33\n",
      "differential_evolution step 107: f(x)= 5.31135e-33\n",
      "differential_evolution step 108: f(x)= 5.31135e-33\n",
      "differential_evolution step 109: f(x)= 5.31135e-33\n",
      "differential_evolution step 110: f(x)= 3.92709e-33\n",
      "differential_evolution step 111: f(x)= 1.78149e-33\n",
      "differential_evolution step 112: f(x)= 9.78011e-34\n",
      "differential_evolution step 113: f(x)= 9.78011e-34\n",
      "differential_evolution step 114: f(x)= 9.78011e-34\n",
      "differential_evolution step 115: f(x)= 9.78011e-34\n",
      "differential_evolution step 116: f(x)= 9.78011e-34\n",
      "differential_evolution step 117: f(x)= 9.78011e-34\n",
      "differential_evolution step 118: f(x)= 9.78011e-34\n",
      "differential_evolution step 119: f(x)= 9.78011e-34\n",
      "differential_evolution step 120: f(x)= 9.78011e-34\n",
      "differential_evolution step 121: f(x)= 9.78011e-34\n",
      "differential_evolution step 122: f(x)= 9.78011e-34\n",
      "differential_evolution step 123: f(x)= 9.78011e-34\n",
      "differential_evolution step 124: f(x)= 5.44677e-34\n",
      "differential_evolution step 125: f(x)= 5.44677e-34\n",
      "differential_evolution step 126: f(x)= 5.44677e-34\n",
      "differential_evolution step 127: f(x)= 5.44677e-34\n",
      "differential_evolution step 128: f(x)= 5.44677e-34\n",
      "differential_evolution step 129: f(x)= 3.49075e-34\n",
      "differential_evolution step 130: f(x)= 3.49075e-34\n",
      "differential_evolution step 131: f(x)= 3.49075e-34\n",
      "differential_evolution step 132: f(x)= 3.49075e-34\n",
      "differential_evolution step 133: f(x)= 3.49075e-34\n",
      "differential_evolution step 134: f(x)= 3.49075e-34\n",
      "differential_evolution step 135: f(x)= 3.49075e-34\n",
      "differential_evolution step 136: f(x)= 3.49075e-34\n",
      "differential_evolution step 137: f(x)= 3.49075e-34\n",
      "differential_evolution step 138: f(x)= 3.49075e-34\n",
      "differential_evolution step 139: f(x)= 2.16667e-34\n",
      "differential_evolution step 140: f(x)= 2.16667e-34\n",
      "differential_evolution step 141: f(x)= 2.16667e-34\n",
      "differential_evolution step 142: f(x)= 2.16667e-34\n",
      "differential_evolution step 143: f(x)= 2.16667e-34\n",
      "differential_evolution step 144: f(x)= 1.11343e-34\n",
      "differential_evolution step 145: f(x)= 1.11343e-34\n",
      "differential_evolution step 146: f(x)= 1.11343e-34\n",
      "differential_evolution step 147: f(x)= 1.11343e-34\n",
      "differential_evolution step 148: f(x)= 1.11343e-34\n",
      "differential_evolution step 149: f(x)= 1.11343e-34\n",
      "differential_evolution step 150: f(x)= 1.11343e-34\n",
      "differential_evolution step 151: f(x)= 1.11343e-34\n",
      "differential_evolution step 152: f(x)= 1.11343e-34\n",
      "differential_evolution step 153: f(x)= 1.11343e-34\n",
      "differential_evolution step 154: f(x)= 1.11343e-34\n",
      "differential_evolution step 155: f(x)= 1.11343e-34\n",
      "differential_evolution step 156: f(x)= 1.11343e-34\n",
      "differential_evolution step 157: f(x)= 1.11343e-34\n",
      "differential_evolution step 158: f(x)= 1.11343e-34\n",
      "differential_evolution step 159: f(x)= 1.11343e-34\n",
      "differential_evolution step 160: f(x)= 1.11343e-34\n",
      "differential_evolution step 161: f(x)= 1.11343e-34\n",
      "differential_evolution step 162: f(x)= 1.11343e-34\n",
      "differential_evolution step 163: f(x)= 1.11343e-34\n"
     ]
    },
    {
     "name": "stdout",
     "output_type": "stream",
     "text": [
      "differential_evolution step 164: f(x)= 1.11343e-34\n",
      "differential_evolution step 165: f(x)= 1.11343e-34\n",
      "differential_evolution step 166: f(x)= 1.11343e-34\n",
      "differential_evolution step 167: f(x)= 1.11343e-34\n",
      "differential_evolution step 168: f(x)= 1.11343e-34\n",
      "differential_evolution step 169: f(x)= 1.11343e-34\n",
      "differential_evolution step 170: f(x)= 2.40741e-35\n",
      "differential_evolution step 171: f(x)= 2.40741e-35\n",
      "differential_evolution step 172: f(x)= 2.40741e-35\n",
      "differential_evolution step 173: f(x)= 2.40741e-35\n",
      "differential_evolution step 174: f(x)= 2.40741e-35\n",
      "differential_evolution step 175: f(x)= 2.40741e-35\n",
      "differential_evolution step 176: f(x)= 2.40741e-35\n",
      "differential_evolution step 177: f(x)= 2.40741e-35\n",
      "differential_evolution step 178: f(x)= 2.40741e-35\n",
      "differential_evolution step 179: f(x)= 2.40741e-35\n",
      "differential_evolution step 180: f(x)= 2.40741e-35\n",
      "(1002, 2)\n",
      "CPU times: user 53.1 s, sys: 4.03 s, total: 57.1 s\n",
      "Wall time: 56.6 s\n"
     ]
    }
   ],
   "source": [
    "%%time\n",
    "\n",
    "# loop n times, running the optimization each time\n",
    "for i in range(0,n):\n",
    "    \n",
    "    print(f\"Optimization Run #{i+1}\")\n",
    "    \n",
    "    # call the differential evolution optimization function on the cost function\n",
    "    res = sco.differential_evolution(cost_fun, bounds, maxiter = None, disp = True, popsize = 15)\n",
    "    \n",
    "    # alternatively, we can run the SHGO algorithm with the sampling_method = \"sobol\" flag to do global\n",
    "    #     optimization with reporting all local minima, as well\n",
    "    #res = sco.shgo(cost_fun, bounds, callback=callback_fun(*shgo_iter_steps), options = {\"f_min\": 0.1, \"maxiter\": None, \"minimize_every_iter\": True, \"local_iter\": False, \"disp\": True}, iters = 3)\n",
    "    #res = sco.basinhopping(cost_fun, x0, niter = 1000)\n",
    "    #res = sco.dual_annealing(cost_fun, bounds)\n",
    "    \n",
    "    # plug the optimized parameters into the solver\n",
    "    optimizedSimData = model(res.x, y0, timeLength)\n",
    "    print(optimizedSimData.shape)\n",
    "    \n",
    "    # save CRH, cortisol and ACTH data into sims arrays\n",
    "    sims[:,i] = optimizedSimData[:,1]\n",
    "    \n",
    "    # save the cost function values and optimized parameters for each iteration into the array opt_pars\n",
    "    opt_pars[i,0] = res.fun\n",
    "    opt_pars[i,1:] = res.x"
   ]
  },
  {
   "cell_type": "code",
   "execution_count": 27,
   "metadata": {},
   "outputs": [
    {
     "name": "stdout",
     "output_type": "stream",
     "text": [
      "[[2.40741243e-35 1.48922757e+00 9.92572344e-01]]\n"
     ]
    }
   ],
   "source": [
    "print(opt_pars)"
   ]
  },
  {
   "cell_type": "code",
   "execution_count": 22,
   "metadata": {},
   "outputs": [],
   "source": [
    "raw = model([1,1], y0, timeLength)"
   ]
  },
  {
   "cell_type": "code",
   "execution_count": 30,
   "metadata": {},
   "outputs": [
    {
     "name": "stdout",
     "output_type": "stream",
     "text": [
      "[[0.00000000e+00 1.00000000e-02]\n",
      " [1.00000000e-02 2.01500372e-02]\n",
      " [2.00000000e-02 3.04523627e-02]\n",
      " ...\n",
      " [9.99000000e+00 1.95631054e+06]\n",
      " [1.00000000e+01 1.98566252e+06]\n",
      " [1.00100000e+01 2.01545488e+06]]\n"
     ]
    }
   ],
   "source": [
    "print(model([1.48922757,9.92572344e-01], y0, timeLength))"
   ]
  },
  {
   "cell_type": "code",
   "execution_count": 32,
   "metadata": {},
   "outputs": [
    {
     "name": "stdout",
     "output_type": "stream",
     "text": [
      "[[ 0.00000000e+00  5.01670812e-05]\n",
      " [ 0.00000000e+00  5.13028390e-05]\n",
      " [ 0.00000000e+00  2.17128466e-06]\n",
      " ...\n",
      " [ 0.00000000e+00 -1.93428506e+06]\n",
      " [ 0.00000000e+00 -1.96341567e+06]\n",
      " [ 0.00000000e+00 -1.99298443e+06]]\n"
     ]
    }
   ],
   "source": [
    "print(raw-model([1.48922757,9.92572344e-01], y0, timeLength))"
   ]
  },
  {
   "cell_type": "code",
   "execution_count": 33,
   "metadata": {},
   "outputs": [
    {
     "name": "stdout",
     "output_type": "stream",
     "text": [
      "[[0.00000000e+00 1.00501671e-02]\n",
      " [1.00000000e-02 2.02013400e-02]\n",
      " [2.00000000e-02 3.04545340e-02]\n",
      " ...\n",
      " [9.99000000e+00 2.20254805e+04]\n",
      " [1.00000000e+01 2.22468503e+04]\n",
      " [1.00100000e+01 2.24704450e+04]]\n"
     ]
    }
   ],
   "source": [
    "print(raw)"
   ]
  },
  {
   "cell_type": "code",
   "execution_count": null,
   "metadata": {},
   "outputs": [],
   "source": []
  }
 ],
 "metadata": {
  "kernelspec": {
   "display_name": "Python 3",
   "language": "python",
   "name": "python3"
  },
  "language_info": {
   "codemirror_mode": {
    "name": "ipython",
    "version": 3
   },
   "file_extension": ".py",
   "mimetype": "text/x-python",
   "name": "python",
   "nbconvert_exporter": "python",
   "pygments_lexer": "ipython3",
   "version": "3.7.7"
  }
 },
 "nbformat": 4,
 "nbformat_minor": 4
}
