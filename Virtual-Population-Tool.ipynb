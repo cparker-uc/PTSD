{
 "cells": [
  {
   "cell_type": "markdown",
   "id": "82f48f8e",
   "metadata": {},
   "source": [
    "# Virtual Population Tool from Rieger et al. (2018)"
   ]
  },
  {
   "cell_type": "markdown",
   "id": "50b14c38",
   "metadata": {},
   "source": [
    "## Table of Contents\n",
    "\n",
    "1. [Imports](#imports)"
   ]
  },
  {
   "cell_type": "markdown",
   "id": "dad12991",
   "metadata": {},
   "source": [
    "## Imports <a name=\"imports\"/>"
   ]
  },
  {
   "cell_type": "code",
   "execution_count": 74,
   "id": "cd15fdb0",
   "metadata": {},
   "outputs": [],
   "source": [
    "import numpy as np\n",
    "import os"
   ]
  },
  {
   "cell_type": "code",
   "execution_count": 40,
   "id": "a1484f37",
   "metadata": {},
   "outputs": [
    {
     "name": "stdout",
     "output_type": "stream",
     "text": [
      "Line 1\n",
      "\n",
      "Line 2\n",
      "\n",
      "Line 3\n",
      "\n",
      "Last line!\n"
     ]
    }
   ],
   "source": [
    "with open('test-file.txt', 'r') as file:\n",
    "    for line in file:\n",
    "        print(line)"
   ]
  },
  {
   "cell_type": "code",
   "execution_count": 58,
   "id": "401224d6",
   "metadata": {},
   "outputs": [],
   "source": [
    "def getFiles(path):\n",
    "    for file in os.listdir(path):\n",
    "        if os.path.isfile(os.path.join(path, file)):\n",
    "            if '.ipynb' in os.path.join(path, file):\n",
    "                yield file"
   ]
  },
  {
   "cell_type": "code",
   "execution_count": 69,
   "id": "21d8a013",
   "metadata": {},
   "outputs": [
    {
     "name": "stdout",
     "output_type": "stream",
     "text": [
      "Best-2010.ipynb\n",
      "Gudmand-Hoeyer-Blood-Model-2018.ipynb\n",
      "Bangsgaard-Ottesen-2017.ipynb\n",
      "Stanojevic-2018.ipynb\n",
      "Malek-2015.ipynb\n",
      "README.ipynb\n",
      "Bairagi-2008.ipynb\n",
      "Virtual-Population-Tool.ipynb\n",
      "Somvanshi-2020.ipynb\n",
      "Sriram-2012.ipynb\n",
      "Andersen-Vinther-Ottesen-2013.ipynb\n",
      "Kim-DOrsogna-Chou-2017.ipynb\n",
      "Vinther-2011.ipynb\n",
      "Savic-2000.ipynb\n",
      "Stanojevic-2018-nanomolar.ipynb\n",
      "Stanojevic-2018-micromolar.ipynb\n"
     ]
    }
   ],
   "source": [
    "for files in getFiles('/Users/christopher/Documents/PTSD/Model Code.nosync/'):\n",
    "    print(files)"
   ]
  },
  {
   "cell_type": "code",
   "execution_count": 72,
   "id": "473e21bf",
   "metadata": {},
   "outputs": [
    {
     "ename": "SyntaxError",
     "evalue": "invalid syntax (<ipython-input-72-7df3a2a26701>, line 2)",
     "output_type": "error",
     "traceback": [
      "\u001b[0;36m  File \u001b[0;32m\"<ipython-input-72-7df3a2a26701>\"\u001b[0;36m, line \u001b[0;32m2\u001b[0m\n\u001b[0;31m    match(status):\u001b[0m\n\u001b[0m                  ^\u001b[0m\n\u001b[0;31mSyntaxError\u001b[0m\u001b[0;31m:\u001b[0m invalid syntax\n"
     ]
    }
   ],
   "source": [
    "def match_test(status):\n",
    "    match status:\n",
    "        case \"test\":\n",
    "            return \"test!\"\n",
    "        \n",
    "        case \"LOL\":\n",
    "            return \"LOL\"\n",
    "            \n",
    "        case _:\n",
    "            return \"not a valid case\""
   ]
  },
  {
   "cell_type": "code",
   "execution_count": 75,
   "id": "65d6795a",
   "metadata": {},
   "outputs": [
    {
     "ename": "SyntaxError",
     "evalue": "invalid syntax (<ipython-input-75-06a86c5314b8>, line 2)",
     "output_type": "error",
     "traceback": [
      "\u001b[0;36m  File \u001b[0;32m\"<ipython-input-75-06a86c5314b8>\"\u001b[0;36m, line \u001b[0;32m2\u001b[0m\n\u001b[0;31m    match status:\u001b[0m\n\u001b[0m               ^\u001b[0m\n\u001b[0;31mSyntaxError\u001b[0m\u001b[0;31m:\u001b[0m invalid syntax\n"
     ]
    }
   ],
   "source": [
    "def http_error(status):\n",
    "    match status:\n",
    "        case 400:\n",
    "            return \"Bad request\"\n",
    "        case 404:\n",
    "            return \"Not found\"\n",
    "        case 418:\n",
    "            return \"I'm a teapot\"\n",
    "\n",
    "        # If an exact match is not confirmed, this last case will be used if provided\n",
    "        case _:\n",
    "            return \"Something's wrong with the internet\""
   ]
  },
  {
   "cell_type": "code",
   "execution_count": null,
   "id": "d3c38e0e",
   "metadata": {},
   "outputs": [],
   "source": []
  }
 ],
 "metadata": {
  "kernelspec": {
   "display_name": "Python 3",
   "language": "python",
   "name": "python3"
  },
  "language_info": {
   "codemirror_mode": {
    "name": "ipython",
    "version": 3
   },
   "file_extension": ".py",
   "mimetype": "text/x-python",
   "name": "python",
   "nbconvert_exporter": "python",
   "pygments_lexer": "ipython3",
   "version": "3.7.7"
  }
 },
 "nbformat": 4,
 "nbformat_minor": 5
}
